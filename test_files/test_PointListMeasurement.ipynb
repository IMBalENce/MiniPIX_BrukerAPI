{
 "cells": [
  {
   "cell_type": "code",
   "execution_count": 1,
   "id": "cd7300fb",
   "metadata": {},
   "outputs": [],
   "source": [
    "import ctypes\n",
    "import sys\n",
    "import time\n",
    "import datetime\n",
    "\n",
    "import numpy as np\n",
    "import matplotlib.pyplot as plt\n",
    "\n",
    "import pandas as pd\n",
    "\n",
    "import glob\n",
    "\n",
    "#path_to_dll = r'F:\\SharedData\\MCEM Data - Staff Only\\Bruker API\\Esprit API\\Bruker.API.Esprit64.dll'\n",
    "path_to_dll = r'C:\\Users\\sergeyg\\Github\\Bruker Nano APIs\\Esprit API\\Bruker.API.Esprit64.dll'"
   ]
  },
  {
   "cell_type": "markdown",
   "id": "0d355d7c",
   "metadata": {},
   "source": [
    "# Definitions"
   ]
  },
  {
   "cell_type": "code",
   "execution_count": 7,
   "id": "e1b76261",
   "metadata": {},
   "outputs": [],
   "source": [
    "# TOpenClientOptions = packed record // structure to describe Quantax start options in ‘OpenClientEx’\n",
    "# Version: integer; // Version of record structure, should be ‘l’ at the moment\n",
    "# GUIMode: integer; // ‘0’ = no GUI, ‘1’ = full GUI, ‘2’ = reduced GUI (spectrum chart only)\n",
    "# StartNew: boolean; // start new instance of Quantax end;\n",
    "# POpenClientOptions = ^ TOpenClientOptions;\n",
    "class TOpenClientOptions(ctypes.Structure):\n",
    "    _pack_ = 1\n",
    "    _fields_ = [\n",
    "        ('Version',  ctypes.c_uint32),\n",
    "        ('GUIMode',  ctypes.c_uint32),\n",
    "        ('StartNew', ctypes.c_bool),\n",
    "        ('IdentifierLength', ctypes.c_int8),\n",
    "        ('TCPHost', ctypes.c_char * 64),\n",
    "        ('TCPPort', ctypes.c_uint16)\n",
    "    ]\n",
    "\n",
    "class TPoint(ctypes.Structure):\n",
    "    _pack_ = 1\n",
    "    _fields_ = [\n",
    "        ('X', ctypes.c_uint32),\n",
    "        ('Y', ctypes.c_uint32)\n",
    "    ]\n",
    "TPointArray = TPoint * 16382\n",
    "PPointArray = ctypes.POINTER(TPointArray)\n",
    "\n",
    "\n",
    "# pixelsize = um/pixel\n",
    "class TRTImageInfoEx(ctypes.Structure):\n",
    "    _pack_ = 1\n",
    "    _fields_ = [\n",
    "        ('Magnification',   ctypes.c_int32),\n",
    "        ('PixelSizeX',      ctypes.c_double),\n",
    "        ('PixelSizeY',      ctypes.c_double),\n",
    "        ('HighVoltage',     ctypes.c_double),\n",
    "        ('WorkingDistance', ctypes.c_double)\n",
    "    ]\n",
    "# typedef TRTImageInfoEx* PRTImageInfoEx;\n",
    "\n",
    "\n",
    "# Y value of segment\n",
    "# XStart : x start position on that line\n",
    "# XCount : number of contiguous pixels\n",
    "# in Delphi TRTSegment = packed record\n",
    "class TSegment(ctypes.Structure):\n",
    "    _pack_ = 1\n",
    "    _fields_ = [\n",
    "        ('Y'     , ctypes.c_uint32),\n",
    "        ('XStart', ctypes.c_uint32),\n",
    "        ('XCount', ctypes.c_uint32)\n",
    "    ]\n",
    "\n",
    "\n",
    "class TLineSegment(ctypes.Structure):\n",
    "    # TLineSegment     = packed record\n",
    "    #    Y,XStart,XEnd : word;\n",
    "    #  end;\n",
    "    # TLineSegmentArray = array[0..8191] of TLineSegment;\n",
    "    _pack_ = 1\n",
    "    _fields_ = [\n",
    "        ('Y', ctypes.c_ushort),\n",
    "        ('XStart', ctypes.c_ushort),\n",
    "        ('XEnd', ctypes.c_ushort)\n",
    "    ]    \n",
    "    \n",
    "# struct TRTSpectrumHeaderRec {\n",
    "# unsigned __int8 IdentifierLength;\n",
    "# char Identifier[25];// 'Rontec XRay spectrum'\n",
    "# int32_t Version;// Version information\n",
    "# int32_t Size;// Size in byte\n",
    "# double DateTime;// Delphi 5.0 version of date and time\n",
    "# int32_t ChannelCount;//\n",
    "# int32_t ChannelOffset;// First channel index\n",
    "# double CalibrationAbs;// Energy of first channel\n",
    "# double CalibrationLin;          // keV per channel\n",
    "# double SigmaAbs;// Sigma^2 energy calibration\n",
    "# double SigmaLin;\n",
    "# // additional data compared to normal Roentec header\n",
    "# int32_t RealTime;// real measure time in ms\n",
    "# int32_t LifeTime;// life time in ms\n",
    "# };\n",
    "# #pragma pack(pop)\n",
    "\n",
    "\n",
    "class TRTSpectrumHeaderRec(ctypes.Structure):\n",
    "    _pack_ = 1\n",
    "    _fields_ = [\n",
    "        ('Identifier', ctypes.c_char_p*25),\n",
    "        ('Version', ctypes.c_uint32),\n",
    "        ('Size', ctypes.c_uint32),\n",
    "        ('DateTime', ctypes.c_double),\n",
    "        ('ChannelCount', ctypes.c_uint32),\n",
    "        ('ChannelOffset', ctypes.c_uint32),\n",
    "        ('CalibrationAbs', ctypes.c_double),\n",
    "        ('CalibrationLin', ctypes.c_double),\n",
    "        ('SigmaAbs', ctypes.c_double),\n",
    "        ('SigmaLin', ctypes.c_double),\n",
    "        ('RealTime', ctypes.c_uint32),\n",
    "        ('LifeTime', ctypes.c_uint32)\n",
    "    ]\n",
    "\n",
    "    \n",
    "\n",
    "def print_spectrum_header(spectrum_header : TRTSpectrumHeaderRec):\n",
    "    print(f'Version: {spectrum_header.Version}')\n",
    "    print(f'Size   :  {spectrum_header.Size}')\n",
    "    print(f'ChannelCount   :  {spectrum_header.ChannelCount}')\n",
    "    print(f'RealTime       :  {spectrum_header.RealTime}')\n",
    "\n",
    "    \n",
    "\n",
    "\n",
    "\n",
    "    \n",
    "\n",
    "errors = {-1 : 'IFC_ERROR_IN_EXECUTION',\n",
    "         -2 : 'IFC_ERROR_WRONG_PARAMETER (execution)',\n",
    "         -3 : 'IFC_ERROR_SPECTRUM_BUFFER_EMPTY',\n",
    "         -4 : 'IFC_ERROR_PARAMETER_MISSED',\n",
    "         -5 : 'IFC_ERROR_TOO_MANY_PARAMETERS',\n",
    "         -6 : 'IFC_ERROR_USER_TERMINATED',\n",
    "         -7 : 'IFC_ERROR_TIMEOUT',\n",
    "         -8 : 'IFC_ERROR_UNKNOWN_VALUE_NAME',\n",
    "         -9 : 'IFC_ERROR_WRONG_VALUE_TYPE',\n",
    "         -10 : 'IFC_ERROR_NO_LICENCE',\n",
    "         -11 : 'IFC_ERROR_RESULT_BUFFER_INSUFFICIENT',\n",
    "         -12 : 'IFC_ERROR_HARDWARE_LOCKED',\n",
    "         -51: 'IFS_ERROR_PARAMETER_MISSED',\n",
    "         -52 : 'IFS_ERROR_FUNCTION_NOT_IMPLEMENTED',\n",
    "         -21 : 'CONN_ERROR_UNKNOWN',\n",
    "         -22 : 'CONN_ERROR_INTERFACE_NOT_CONNECTED',\n",
    "         -23 : 'CONN_ERROR_PARAMETER_MISSED',\n",
    "         -24 : 'CONN_ERROR_ANSWER_TIMEOUT',\n",
    "         -25 : 'CONN_ERROR_SERVER_NOT_RESPONDING',\n",
    "         -26 : 'CONN_ERROR_RESULT_MISSED',\n",
    "         -27 : 'CONN_ERROR_NO_INTERFACE',\n",
    "         -28 : 'CONN_ERROR_INVALID_LOGIN',\n",
    "         -29 : 'CONN_ERROR_NO_CONNECTION_TO_SERVER',\n",
    "         -30 : 'CONN_ERROR_SERVER',\n",
    "         -31 : 'CONN_ERROR_ACTION_ABORTED',\n",
    "         -101 : 'ERROR_WRONG_PARAMETER',\n",
    "         -102 : 'ERROR_FILE_NOT_EXIST',\n",
    "         -103 : 'ERROR_INVALID_CONNECTION',\n",
    "         -104 : 'ERROR_NO_ANSWER',\n",
    "         -105 : 'ERROR_CAN_NOT_START_PROCESS',\n",
    "         -106 : 'ERROR_INVALID_RESULT_DATA',\n",
    "         -107 : 'ERROR_SETTINGS_NOT_FOUND',\n",
    "         -108 : 'ERROR_INVALID_SERVER_CONNECTION',\n",
    "         -109 : 'ERROR_IN_EXECUTION',\n",
    "         -110 : 'ERROR_IFC_BUSY',\n",
    "         -201 : 'STATE_WAS_RUNNING_BEFORE'\n",
    "}"
   ]
  },
  {
   "cell_type": "markdown",
   "id": "d8859ba5",
   "metadata": {},
   "source": [
    "# Initialise the connection to Bruker Esprit API"
   ]
  },
  {
   "cell_type": "code",
   "execution_count": 3,
   "id": "dc25e78c",
   "metadata": {},
   "outputs": [
    {
     "name": "stdout",
     "output_type": "stream",
     "text": [
      "C:\\Users\\sergeyg\\Github\\Bruker Nano APIs\\Esprit API\\Bruker.API.Esprit64.dll <CDLL 'C:\\Users\\sergeyg\\Github\\Bruker Nano APIs\\Esprit API\\Bruker.API.Esprit64.dll', handle 400000 at 0x20173042260>\n"
     ]
    }
   ],
   "source": [
    "pServer = ''.encode('utf-8') # Pointer to a server name (if empty the local/default server is referenced)\n",
    "\n",
    "User = 'edx'\n",
    "pUser = User.encode('utf-8')\n",
    "\n",
    "password = 'edx'\n",
    "pPassword = password.encode('utf-8')\n",
    "\n",
    "host = '127.0.0.1' # 'local host'\n",
    "pHost = host.encode('utf-8')\n",
    "\n",
    "port = ctypes.c_uint16(0)\n",
    "\n",
    "Options = TOpenClientOptions()\n",
    "Options.Version = 1\n",
    "Options.GUIMode = 1 # GUIMode: integer; // ‘0’ = no GUI, ‘1’ = full GUI, ‘2’ = reduced GUI (spectrum chart only)\n",
    "Options.StartNew = False # If true, function starts always a new client instance\n",
    "Options.IdentifierLength = 8 # ???\n",
    "Options.TCPHost = host.encode('utf-8')\n",
    "Options.TCPport = port\n",
    "Options_ptr = ctypes.pointer(Options)\n",
    "\n",
    "\n",
    "CID = ctypes.c_uint32(123456)  # Identification code for an actual server/client instance\n",
    "CID_ptr = ctypes.pointer(CID)  # Pointer to Identification code for an actual server/client instance\n",
    "\n",
    "StartNew = ctypes.c_bool(False)\n",
    "GUI      = ctypes.c_bool(True) \n",
    "\n",
    "try:\n",
    "    esprit = ctypes.cdll.LoadLibrary(path_to_dll)\n",
    "    print(path_to_dll, esprit)\n",
    "except:\n",
    "    error_message = f'path to dll {path_to_dll} does not exist'\n",
    "    print(error_message + '\\n')"
   ]
  },
  {
   "cell_type": "code",
   "execution_count": 6,
   "id": "c7d86ae0",
   "metadata": {},
   "outputs": [
    {
     "data": {
      "text/plain": [
       "ctypes.CDLL"
      ]
     },
     "execution_count": 6,
     "metadata": {},
     "output_type": "execute_result"
    }
   ],
   "source": [
    "type(esprit)"
   ]
  },
  {
   "cell_type": "markdown",
   "id": "f1bfb32f",
   "metadata": {},
   "source": [
    "# Connect to the Esprit API server"
   ]
  },
  {
   "cell_type": "code",
   "execution_count": 6,
   "id": "dbe5de85",
   "metadata": {},
   "outputs": [
    {
     "name": "stdout",
     "output_type": "stream",
     "text": [
      "Identification code for an actual server/client instance 123456\n",
      "Error output = ERROR_FILE_NOT_EXIST\n"
     ]
    }
   ],
   "source": [
    "### Connect to ESprit\n",
    "\n",
    "output = esprit.OpenClient(pServer, pUser, pPassword, StartNew, GUI, CID_ptr)\n",
    "\n",
    "print(f'Identification code for an actual server/client instance {CID.value}')\n",
    "\n",
    "print(f'Error output = {errors[output]}')"
   ]
  },
  {
   "cell_type": "markdown",
   "id": "84280d88",
   "metadata": {},
   "source": [
    "# Verify the connection, test a simple quiry"
   ]
  },
  {
   "cell_type": "code",
   "execution_count": 7,
   "id": "2bbaf48f",
   "metadata": {},
   "outputs": [
    {
     "name": "stdout",
     "output_type": "stream",
     "text": [
      "No SEM servers/clients info could be fetched, ERROR code is -103, ERROR_INVALID_CONNECTION\n",
      "\n"
     ]
    }
   ],
   "source": [
    "buffer_size = ctypes.c_int32(999)\n",
    "query = ' ' * 1000 # block of memory for 1000 characters\n",
    "query = query.encode('utf-8') # bytes, reference, char*\n",
    "\n",
    "output = \\\n",
    "    esprit.QueryInfo(CID, query, buffer_size)\n",
    "\n",
    "if output==0:\n",
    "    print('SEM servers/client: ', str(query), '\\n')\n",
    "    error_message = ''\n",
    "else:\n",
    "    error_message = f'No SEM servers/clients info could be fetched, ERROR code is {output}, {errors[output]}'\n",
    "    print( error_message + '\\n')"
   ]
  },
  {
   "cell_type": "markdown",
   "id": "253ab32f",
   "metadata": {},
   "source": [
    "# Quiery the SEM state, test communication with the API"
   ]
  },
  {
   "cell_type": "code",
   "execution_count": 8,
   "id": "e3169f48",
   "metadata": {},
   "outputs": [
    {
     "name": "stdout",
     "output_type": "stream",
     "text": [
      "mag = 0.0, HV = 0.0, WD = 0.0\n",
      "No SEM data could be fetched, ERROR code is -103, ERROR_INVALID_CONNECTION\n",
      "\n"
     ]
    }
   ],
   "source": [
    "mag = ctypes.c_double(0) # magnification\n",
    "high_voltage  = ctypes.c_double(0) # high voltage in keV\n",
    "working_distance  = ctypes.c_double(0) # working ditance in mm\n",
    "mag_ptr = ctypes.pointer(mag)\n",
    "high_voltage_ptr = ctypes.pointer(high_voltage)\n",
    "working_distance_ptr = ctypes.pointer(working_distance)\n",
    "\n",
    "output = \\\n",
    "    esprit.GetSEMData(CID, mag_ptr, high_voltage_ptr, working_distance_ptr)\n",
    "\n",
    "print(f'mag = {mag.value}, HV = {high_voltage.value}, WD = {working_distance.value}')\n",
    "if output==0:\n",
    "    error_message = ''\n",
    "    print('SEM data retrieved successfully\\n')\n",
    "else:\n",
    "    error_message = f'No SEM data could be fetched, ERROR code is {output}, {errors[output]}'\n",
    "    print( error_message + '\\n')"
   ]
  },
  {
   "cell_type": "markdown",
   "id": "8da2ed1a",
   "metadata": {},
   "source": [
    "# Retrieve the image settings"
   ]
  },
  {
   "cell_type": "code",
   "execution_count": 9,
   "id": "105c2c76",
   "metadata": {},
   "outputs": [
    {
     "name": "stdout",
     "output_type": "stream",
     "text": [
      "No image configuration could be retrieved, ERROR code is -103, ERROR_INVALID_CONNECTION\n",
      "\n"
     ]
    }
   ],
   "source": [
    "# int32_t ImageGetConfiguration(uint32_t CID, uint32_t & Width, uint32_t & Height, uint32_t & Average, bool & Ch1, bool & Ch2)\n",
    "# ImageGetConfiguration(FCID,w,h,Average,Ch1,Ch2);\n",
    "# w,h, Average      : Cardinal;\n",
    "# Width: Image  width in pixel\n",
    "# Height: Image height in pixel\n",
    "# Average: Number of pixel average cycles. Depending on the number of active channels one cycle takes\n",
    "# 1 us (for one active channel) or 2 us (for two active channels)\n",
    "# Ch1, Ch2: Image channel active or not\n",
    "\n",
    "width   = ctypes.c_uint32(0) # image width\n",
    "height  = ctypes.c_uint32(0) # image height\n",
    "average = ctypes.c_uint32(1)\n",
    "Ch1     = ctypes.c_bool(False)\n",
    "Ch2     = ctypes.c_bool(False)\n",
    "################## pointers ##################\n",
    "width_ptr   = ctypes.pointer(width)\n",
    "height_ptr  = ctypes.pointer(height)\n",
    "average_ptr = ctypes.pointer(average)\n",
    "Ch1_ptr     = ctypes.pointer(Ch1)\n",
    "Ch2_ptr     = ctypes.pointer(Ch2)\n",
    "\n",
    "\n",
    "output = \\\n",
    "    esprit.ImageGetConfiguration(CID,\n",
    "                                 width_ptr, height_ptr,\n",
    "                                 average_ptr, Ch1_ptr, Ch2_ptr)\n",
    "\n",
    "if output==0:\n",
    "    error_message = ''\n",
    "    print(f'Image configuration: width {width.value}; height {height.value}; '\n",
    "          f'average {average.value}); Ch1 {Ch1.value};  Ch2: {Ch2.value}\\n')\n",
    "else:\n",
    "    error_message = f'No image configuration could be retrieved, ERROR code is {output}, {errors[output]}'\n",
    "    print(error_message + '\\n')\n",
    "    "
   ]
  },
  {
   "cell_type": "markdown",
   "id": "11fab125",
   "metadata": {},
   "source": [
    "# Get SEM image"
   ]
  },
  {
   "cell_type": "code",
   "execution_count": 10,
   "id": "5af6d101",
   "metadata": {},
   "outputs": [
    {
     "name": "stdout",
     "output_type": "stream",
     "text": [
      "image info: mag=0, pixelsize=0.0, HV=0.0, WD=0.0\n",
      "Could not acquire image, ERROR code is -104, ERROR_NO_ANSWER\n",
      "\n"
     ]
    },
    {
     "name": "stderr",
     "output_type": "stream",
     "text": [
      "C:\\Users\\sergeyg\\AppData\\Local\\Temp\\ipykernel_4872\\535876696.py:57: UserWarning: Attempting to set identical left == right == -0.5 results in singular transformations; automatically expanding.\n",
      "  plt.imshow(image, cmap='gray')\n",
      "C:\\Users\\sergeyg\\AppData\\Local\\Temp\\ipykernel_4872\\535876696.py:57: UserWarning: Attempting to set identical bottom == top == -0.5 results in singular transformations; automatically expanding.\n",
      "  plt.imshow(image, cmap='gray')\n"
     ]
    },
    {
     "data": {
      "image/png": "[encoded data removed]",
      "text/plain": [
       "<Figure size 432x288 with 1 Axes>"
      ]
     },
     "metadata": {
      "needs_background": "light"
     },
     "output_type": "display_data"
    }
   ],
   "source": [
    "# int32_t ImageAquireImage(uint32_t CID, int32_t Ch, bool ShowProgress, void* Buffer, int32_t& BufSize, PRTImageInfoEx ImgInfo)\n",
    "# ImageAquireImageEx(FCID, 2, MemStream.Memory, 0, aSize, @ImgInfo)\n",
    "#\n",
    "image_info = TRTImageInfoEx()\n",
    "image_info_ptr = ctypes.pointer(image_info)\n",
    "\n",
    "extra_buffer_for_image = 200000\n",
    "buffer_size = ctypes.c_uint32(width.value * height.value + extra_buffer_for_image) # MemStream.SetSize(W*H+20000); aSize:=MemStream.Size;\n",
    "buffer_size_ptr = ctypes.pointer(buffer_size)\n",
    "\n",
    "show_progress=False\n",
    "channel = 1\n",
    "channel = ctypes.c_uint32(channel)\n",
    "show_progress = ctypes.c_bool(show_progress)\n",
    "\n",
    "# version 1 - void pointer\n",
    "#self.image_buffer_ptr = ctypes.c_void_p() # void* Buffer\n",
    "\n",
    "# version 2 : array\n",
    "# the image has 8 bit depth (0..255) hence ctypes.c_uint8\n",
    "IntArray = ctypes.c_uint8 * buffer_size.value # int8 array the size of width*height+extra for storing the image\n",
    "image_buffer = IntArray() # initialise the array\n",
    "image_buffer_ptr = ctypes.pointer(image_buffer) # pointer to the image buffer array\n",
    "\n",
    "\n",
    "\n",
    "output = \\\n",
    "    esprit.ImageAquireImage(CID,\n",
    "                             channel, show_progress,\n",
    "                             image_buffer_ptr, buffer_size_ptr, image_info_ptr)\n",
    "\n",
    "print(f'image info: mag={image_info.Magnification}, pixelsize={image_info.PixelSizeX}, '\n",
    "      f'HV={image_info.HighVoltage}, WD={image_info.WorkingDistance}')\n",
    "\n",
    "if output==0:\n",
    "    error_message = ''\n",
    "    print(f'image acquired successfully\\n')\n",
    "else:\n",
    "    error_message = f'Could not acquire image, ERROR code is {output}, {errors[output]}'\n",
    "    print( error_message + '\\n')\n",
    "\n",
    "    \n",
    "    \n",
    "    \n",
    "image = np.zeros( buffer_size.value )\n",
    "for ii in range( buffer_size.value ):\n",
    "    image[ii] = image_buffer_ptr.contents[ii] # populate the 1D array from the buffer pointer\n",
    "    \n",
    "    \n",
    "\n",
    "# remove the zeros in the extra buffer for image\n",
    "image = image[ : -extra_buffer_for_image]\n",
    "\n",
    "\n",
    "image = np.reshape(image, (height.value, width.value) ) # reshape the 1D array into the image shape\n",
    "plt.figure(11)\n",
    "plt.imshow(image, cmap='gray')\n",
    "plt.show()\n"
   ]
  },
  {
   "cell_type": "markdown",
   "id": "273554ee",
   "metadata": {},
   "source": [
    "# Test - set beam to point X,Y"
   ]
  },
  {
   "cell_type": "code",
   "execution_count": 11,
   "id": "a8295fef",
   "metadata": {},
   "outputs": [
    {
     "name": "stdout",
     "output_type": "stream",
     "text": [
      "Could not position the beam to (100, 200), ERROR code is -103, ERROR_INVALID_CONNECTION\n",
      "\n"
     ]
    }
   ],
   "source": [
    "# int32_t ImageSetPoint(uint32_t CID, uint32_t X, uint32_t Y)\n",
    "# Pixel X Y value of the current image to set the electron beam to\n",
    "\n",
    "\n",
    "x_pos = 100\n",
    "y_pos = 200\n",
    "\n",
    "\n",
    "X = ctypes.c_uint32(x_pos)\n",
    "Y = ctypes.c_uint32(y_pos)\n",
    "\n",
    "output = \\\n",
    "    esprit.ImageSetPoint(CID, X, Y)\n",
    "\n",
    "if output==0:\n",
    "    error_message = ''\n",
    "    print(f'Beam position set to ({X.value}, {Y.value})\\n')\n",
    "else:\n",
    "    error_message = f'Could not position the beam to ({X.value}, {Y.value}), ERROR code is {output}, {errors[output]}'\n",
    "    print( error_message + '\\n')"
   ]
  },
  {
   "cell_type": "markdown",
   "id": "fcbfbab2",
   "metadata": {},
   "source": [
    "# Test - Line scans with HIGH dwell time; Points measurements"
   ]
  },
  {
   "cell_type": "code",
   "execution_count": 67,
   "id": "7236e1ea",
   "metadata": {},
   "outputs": [
    {
     "name": "stdout",
     "output_type": "stream",
     "text": [
      "Could not expose segment at (100,200) for dwell of 10 ms\n",
      ", ERROR code is -103, ERROR_INVALID_CONNECTION\n",
      "\n"
     ]
    }
   ],
   "source": [
    "# int32_t StartPointListMeasurement(uint32_t CID, int32_t SPU, uint32_t SegmentCount, PSegmentList LineSegments, uint32_t RealTime);\n",
    "# CID: Identification code for an actual server/ client instance\n",
    "# SPU: Spectrometer index (1…n)\n",
    "# SegmentCount: Description of points to measure\n",
    "# RealTime: Acquisition time in ms\n",
    "\n",
    "\n",
    "dwell_time = 10 # ms\n",
    "x = 100\n",
    "y = 200\n",
    "\n",
    "#################################################################################\n",
    "\n",
    "dwell_time = ctypes.c_uint32(dwell_time)\n",
    "\n",
    "SPU = ctypes.c_uint32(1) # spectrometer channel, 1 is used here\n",
    "\n",
    "segment = TSegment()\n",
    "segment.Y      = ctypes.c_uint32(y) # y start\n",
    "segment.XStart = ctypes.c_uint32(x) # x start\n",
    "# TODO - try different line length other than 1\n",
    "segment.XCount = ctypes.c_uint32(1) # single pixel line\n",
    "\n",
    "\n",
    "segment_count = 1\n",
    "TSegmentList = TSegment * segment_count # array/list of segment with a single element\n",
    "list_of_segments = TSegmentList(segment) # populate the array with a segment\n",
    "list_of_segments_ptr = ctypes.pointer(list_of_segments) # pointer to the list of segments/list with a single segment\n",
    "\n",
    "\n",
    "output = \\\n",
    "    esprit.StartPointListMeasurement(CID, SPU, ctypes.c_uint32(segment_count),\n",
    "                                      list_of_segments_ptr, dwell_time)\n",
    "\n",
    "if output==0:\n",
    "    error_message = ''\n",
    "    print(f'Segment starting at ({x},{y}) exposed during dwell of {dwell_time.value} ms\\n')\n",
    "else:\n",
    "    error_message = f'Could not expose segment at ({x},{y}) for dwell of {dwell_time.value} ms\\n, ERROR code is {output}, {errors[output]}'\n",
    "    print( error_message + '\\n')"
   ]
  },
  {
   "cell_type": "code",
   "execution_count": 68,
   "id": "aff3639a",
   "metadata": {},
   "outputs": [
    {
     "name": "stdout",
     "output_type": "stream",
     "text": [
      "100 200 1\n"
     ]
    }
   ],
   "source": [
    "print(list_of_segments[0].XStart, list_of_segments[0].Y, list_of_segments[0].XCount)\n"
   ]
  },
  {
   "cell_type": "markdown",
   "id": "c52a8f96",
   "metadata": {},
   "source": [
    "# Get the line scan data"
   ]
  },
  {
   "cell_type": "code",
   "execution_count": 69,
   "id": "63f7c29e",
   "metadata": {},
   "outputs": [
    {
     "name": "stdout",
     "output_type": "stream",
     "text": [
      "Could not retrieve the line scan data, ERROR code is -106, ERROR_INVALID_RESULT_DATA\n",
      "\n"
     ]
    }
   ],
   "source": [
    "spectrum_index = ctypes.c_uint32(1)\n",
    "\n",
    "# # allocate 64000 memory for the header\n",
    "# TRTSpectrumHeaderRecArray = TRTSpectrumHeaderRec * 64000\n",
    "# SpectrumBuf_ptr = ctypes.POINTER(TRTSpectrumHeaderRecArray)\n",
    "\n",
    "SpectrumBuf = TRTSpectrumHeaderRec()\n",
    "SpectrumBuf_ptr = ctypes.pointer(SpectrumBuf)\n",
    "\n",
    "\n",
    "output = \\\n",
    "    esprit.GetPointListSpectrum(CID, spectrum_index,\n",
    "                                 SpectrumBuf_ptr, ctypes.c_uint32(64000))\n",
    "\n",
    "if output==0:\n",
    "    error_message = ''\n",
    "    print(f'Retrieving the line scan specturum\\n')\n",
    "else:\n",
    "    error_message = f'Could not retrieve the line scan data, ERROR code is {output}, {errors[output]}'\n",
    "    print(error_message + '\\n')"
   ]
  },
  {
   "cell_type": "markdown",
   "id": "9403a251",
   "metadata": {},
   "source": [
    "# X-ray spectrum measurement"
   ]
  },
  {
   "cell_type": "code",
   "execution_count": null,
   "id": "a573dbc5",
   "metadata": {},
   "outputs": [],
   "source": [
    "# int32_t StartSpectrumMeasurement(uint32_t CID, int32_t Device, uint32_t RealTime)\n",
    "# *****\n",
    "# // Device: Number of spectrometer ( 1 in most cases )\n",
    "# // RealTime: Measure time in ms ( 0 means endless measurement )\n",
    "# // Result: Function call sucessful or not ( 0 = success, otherwise error )\n",
    "# StartSpectrumMeasurement(FCID,1,0);\n",
    "# StartSpectrumMeasurement(FCID,1,TimeSpinEdit.Value);\n",
    "\n",
    "\n",
    "# int32_t StopSpectrumMeasurement(uint32_t CID, int32_t Device)\n",
    "# *****\n",
    "# // Device: Number of spectrometer ( 1 in most cases )\n",
    "# // Result: Function call sucessful or not ( 0 = success, otherwise error )\n",
    "# StopSpectrumMeasurement(FCID,1);\n",
    "\n",
    "\n",
    "\n",
    "\n",
    "\n",
    "# int32_t ReadSpectrum(uint32_t CID, int32_t Device)\n",
    "# *****\n",
    "# // Read current spectrum from spectrometer to buffer\n",
    "# // Device: Number of spectrometer ( 1 in most cases )\n",
    "# // Result: Function call sucessful or not ( 0 = success, otherwise error )\n",
    "# if (ReadSpectrum(FCID,1)=0)...\n",
    "\n",
    "\n",
    "# int32_t GetSpectrum(uint32_t CID, int32_t Buffer, PRTSpectrumHeaderRec pSpectrumBuf, int32_t BufSize)\n",
    "# // Buffer: Buffer index ( 0 for loaded spectrum buffer, > 0 for spectrometer buffers )\n",
    "# // Result: Function call sucessful or not ( 0 = success, otherwise error )\n",
    "# ********\n",
    "# (GetSpectrum(FCID,1,SpectrumBuf,64000)=0)\n",
    "# SpectrumBuf : PRTAPISpectrumHeaderRec;\n",
    "# PRTSpectrumHeaderRec -> PRTAPISpectrumHeaderRec\n",
    "\n",
    "\n",
    "# int32_t GetSpectrometerConfiguration(uint32_t CID, int32_t SPU, uint32_t& MaxEnergy, uint32_t& PulseThroughput)\n",
    "# *****\n",
    "# SPU: Number of spectrometer (\"1\" in most cases)\n",
    "# MaxEnergy: Energy in keV of that last spectrum channel\n",
    "# PulseTroughput: Maximum pulse output rate of the selected amplifier in cps (counts per second)\n",
    "\n",
    "\n",
    "# int32_t GetSpectrometerParams(uint32_t CID, int32_t SPU, void* Buffer, int32_t& BufSize)\n",
    "# *****\n",
    "# FSpectrometerParams : PAnsiChar;\n",
    "# BufCount:=32000;\n",
    "# ReAllocMem(FSpectrometerParams,BufCount);\n",
    "# GetSpectrometerParams(FCID,1,FSpectrometerParams,BufCount);\n",
    "# ReAllocMem(FSpectrometerParams,BufCount);\n",
    "# StartSpectrumMeasurement(FCID,1,0);\n",
    "\n",
    "\n",
    "# int32_t CreateSpectrum(char* SpectrometerParams, PRTSpectrumHeaderRec SpectrumData, char* ResultData, int32_t& ResultSize)\n",
    "# // Create a complete Bruker spectrum from\n",
    "# Bruker.API.CommonFunctions_imp.CreateSpectrum(Params,SpectrumBuf,FullSpectrum,FullSize)=0\n",
    "\n",
    "\n",
    "# int32_t PutSpectrum(uint32_t CID, void* Spectrum, int32_t BufSize)\n",
    "# *****\n",
    "# // Send spectrum back to 'loaded' buffer\n",
    "# // Spectrum : Bruker spectrum buffer\n",
    "# // BufferSiz: size of spectrum buffer\n",
    "# // Result   : Function call sucessful or not ( 0 = success, otherwise error )\n",
    "# // Remarks  : if one wants to use that function one has to build a complete Bruker spectrum with\n",
    "# //                functions 'GetSpectrum', 'GetSpectrometerParams' and 'CreateSpectrum'\n",
    "\n",
    "        \n",
    "\n",
    "SpectrumBuf : PRTAPISpectrumHeaderRec;\n",
    "PB          : PByte;\n",
    "PL          : PLongInt;\n",
    "i           : integer;\n",
    "Params      : PAnsiChar;\n",
    "ParSize     : integer;\n",
    "FullSpectrum: PAnsiChar;\n",
    "FullSize    : integer;\n",
    "\n",
    "SpectrumBuf:=AllocMem(64000);\n",
    " // Load spectrum (it is in buffer '0') afterwards and read its data into this demo\n",
    " if (GetSpectrum(FCID,0,SpectrumBuf,64000)=0) then\n",
    " \n",
    "\n",
    "// Remember spectrum buffer for next actions\n",
    "FCurrentBuffer:=0;\n",
    "\n",
    "// Read spectrometer params\n",
    "ParSize:=20000;\n",
    "Params:=AllocMem(ParSize);\n",
    "if GetSpectrometerParams(FCID,FCurrentBuffer,Params,ParSize)=0 then\n",
    "\n",
    "FullSize:=50000;\n",
    "FullSpectrum:=AllocMem(FullSize);\n",
    "// Create full spectrum and send to 'load' buffer (='0')\n",
    "if Bruker.API.CommonFunctions_imp.CreateSpectrum(Params,SpectrumBuf,FullSpectrum,FullSize)=0\n",
    "  then PutSpectrum(FCID,FullSpectrum,FullSize);"
   ]
  },
  {
   "cell_type": "markdown",
   "id": "c15f8fbb",
   "metadata": {},
   "source": [
    "# 1. Start Spectrum Measurement, wait, then Stop"
   ]
  },
  {
   "cell_type": "code",
   "execution_count": 14,
   "id": "4e2c7b64",
   "metadata": {},
   "outputs": [
    {
     "name": "stdout",
     "output_type": "stream",
     "text": [
      "Could not start the spectrum measurement, ERROR code is -103, ERROR_INVALID_CONNECTION\n",
      "\n"
     ]
    }
   ],
   "source": [
    "# int32_t StartSpectrumMeasurement(uint32_t CID, int32_t Device, uint32_t RealTime)\n",
    "# *****\n",
    "# // Device: Number of spectrometer ( 1 in most cases )\n",
    "# // RealTime: Measure time in ms ( 0 means endless measurement )\n",
    "# // Result: Function call sucessful or not ( 0 = success, otherwise error )\n",
    "# StartSpectrumMeasurement(FCID,1,0);\n",
    "# StartSpectrumMeasurement(FCID,1,TimeSpinEdit.Value);\n",
    "\n",
    "real_time = 100 \n",
    "device    = ctypes.c_int32(1) # Device: Number of spectrometer ( 1 in most cases )\n",
    "real_time = ctypes.c_uint32() # #RealTime: Measure time in ms ( 0 means endless measurement )\n",
    "\n",
    "output = \\\n",
    "    esprit.StartSpectrumMeasurement(CID, device, real_time)\n",
    "\n",
    "if output==0:\n",
    "    error_message = ''\n",
    "    print(f'Started spectrum measurement\\n')\n",
    "else:\n",
    "    error_message = f'Could not start the spectrum measurement, ERROR code is {output}, {errors[output]}'\n",
    "    print(error_message + '\\n')"
   ]
  },
  {
   "cell_type": "code",
   "execution_count": 17,
   "id": "7a6cffa7",
   "metadata": {},
   "outputs": [],
   "source": [
    "\"\"\"\n",
    "    sleep for the time of measumement\n",
    "\"\"\"\n",
    "\n",
    "time.sleep(real_time.value)"
   ]
  },
  {
   "cell_type": "code",
   "execution_count": 16,
   "id": "567a8f33",
   "metadata": {},
   "outputs": [
    {
     "name": "stdout",
     "output_type": "stream",
     "text": [
      "Could not stop the spectrum measurement, ERROR code is -103, ERROR_INVALID_CONNECTION\n",
      "\n"
     ]
    }
   ],
   "source": [
    "# int32_t StopSpectrumMeasurement(uint32_t CID, int32_t Device)\n",
    "# *****\n",
    "# // Device: Number of spectrometer ( 1 in most cases )\n",
    "# // Result: Function call sucessful or not ( 0 = success, otherwise error )\n",
    "# StopSpectrumMeasurement(FCID,1);\n",
    "\n",
    "output = \\\n",
    "    esprit.StopSpectrumMeasurement(CID, device)\n",
    "\n",
    "if output==0:\n",
    "    error_message = ''\n",
    "    print(f'Stopping spectrum measurement\\n')\n",
    "else:\n",
    "    error_message = f'Could not stop the spectrum measurement, ERROR code is {output}, {errors[output]}'\n",
    "    print(error_message + '\\n')"
   ]
  },
  {
   "cell_type": "markdown",
   "id": "9a97f226",
   "metadata": {},
   "source": [
    "# 2. Get Spectrometer Configuration"
   ]
  },
  {
   "cell_type": "code",
   "execution_count": 40,
   "id": "3e3d8d7d",
   "metadata": {},
   "outputs": [
    {
     "name": "stdout",
     "output_type": "stream",
     "text": [
      "Could not stop the spectrum measurement, ERROR code is -103, ERROR_INVALID_CONNECTION\n",
      "\n",
      "Spectrometer: max energy = 0\n",
      "Spectrometer: pulse_throughput = 0, counts per seconsd\n"
     ]
    }
   ],
   "source": [
    "# int32_t GetSpectrometerConfiguration(uint32_t CID, int32_t SPU, uint32_t& MaxEnergy, uint32_t& PulseThroughput)\n",
    "# *****\n",
    "# SPU: Number of spectrometer (\"1\" in most cases)\n",
    "# MaxEnergy: Energy in keV of that last spectrum channel\n",
    "# PulseTroughput: Maximum pulse output rate of the selected amplifier in cps (counts per second)\n",
    "\n",
    "\n",
    "SPU = ctypes.c_int32(1)         # Number of spectrometer (\"1\" in most cases)\n",
    "max_energy = ctypes.c_uint32(0) # Energy in keV of that last spectrum channel\n",
    "max_energy_ptr = ctypes.pointer(max_energy)\n",
    "pulse_throughput = ctypes.c_uint32(0) # Maximum pulse output rate of the selected amplifier in cps (counts per second)\n",
    "pulse_throughput_ptr = ctypes.pointer(pulse_throughput)\n",
    "\n",
    "output = \\\n",
    "    esprit.GetSpectrometerConfiguration(CID, SPU, max_energy_ptr, pulse_throughput_ptr)\n",
    "\n",
    "if output==0:\n",
    "    error_message = ''\n",
    "    print(f'Successfully received spectrometer parameters:\\n')\n",
    "else:\n",
    "    error_message = f'Could not stop the spectrum measurement, ERROR code is {output}, {errors[output]}'\n",
    "    print(error_message + '\\n')\n",
    "    \n",
    "    \n",
    "print(f'Spectrometer: max energy = {max_energy.value}')\n",
    "print(f'Spectrometer: pulse_throughput = {pulse_throughput.value}, counts per seconsd')\n"
   ]
  },
  {
   "cell_type": "markdown",
   "id": "b68b1aa3",
   "metadata": {},
   "source": [
    "# 3. Read spectrum from the spectrometer to buffer"
   ]
  },
  {
   "cell_type": "code",
   "execution_count": 26,
   "id": "300ecdbd",
   "metadata": {},
   "outputs": [
    {
     "name": "stdout",
     "output_type": "stream",
     "text": [
      "Could not read the spectrum into the buffer, ERROR code is -103, ERROR_INVALID_CONNECTION\n",
      "\n"
     ]
    }
   ],
   "source": [
    "# int32_t ReadSpectrum(uint32_t CID, int32_t Device)\n",
    "# *****\n",
    "# // Read current spectrum from spectrometer to buffer\n",
    "# // Device: Number of spectrometer ( 1 in most cases )\n",
    "# // Result: Function call sucessful or not ( 0 = success, otherwise error )\n",
    "# if (ReadSpectrum(FCID,1)=0)...\n",
    "\n",
    "device = ctypes.c_int32(1) # Device: Number of spectrometer ( 1 in most cases )\n",
    "\n",
    "output = \\\n",
    "    esprit.ReadSpectrum(CID, device)\n",
    "\n",
    "if output==0:\n",
    "    error_message = ''\n",
    "    print(f'Spectrum read into the buffer successfully\\n')\n",
    "else:\n",
    "    error_message = f'Could not read the spectrum into the buffer, ERROR code is {output}, {errors[output]}'\n",
    "    print(error_message + '\\n')"
   ]
  },
  {
   "cell_type": "markdown",
   "id": "07c4f13b",
   "metadata": {},
   "source": [
    "# 4. Get the spectrum"
   ]
  },
  {
   "cell_type": "code",
   "execution_count": 68,
   "id": "aeca5ace",
   "metadata": {},
   "outputs": [
    {
     "name": "stdout",
     "output_type": "stream",
     "text": [
      "Could not GetSpectrum, ERROR code is 232\n",
      "\n",
      "Version: 0\n",
      "Size   :  0\n",
      "ChannelCount   :  0\n",
      "RealTime       :  0\n"
     ]
    }
   ],
   "source": [
    "# int32_t GetSpectrum(uint32_t CID, int32_t Buffer, PRTSpectrumHeaderRec pSpectrumBuf, int32_t BufSize)\n",
    "# // Buffer: Buffer index ( 0 for loaded spectrum buffer, > 0 for spectrometer buffers )\n",
    "# // Result: Function call sucessful or not ( 0 = success, otherwise error )\n",
    "# ********\n",
    "# (GetSpectrum(FCID,1,SpectrumBuf,64000)=0)\n",
    "# SpectrumBuf : PRTAPISpectrumHeaderRec;\n",
    "# PRTSpectrumHeaderRec -> PRTAPISpectrumHeaderRec\n",
    "\n",
    "buffer_size = 64000\n",
    "buffer_size = ctypes.c_int32(buffer_size)\n",
    " \n",
    "buffer = ctypes.c_int32(1) # Buffer index ( 0 for loaded spectrum buffer, > 0 for spectrometer buffers )\n",
    "\n",
    "spectrum_buffer = TRTSpectrumHeaderRec()\n",
    "spectrum_buffer_ptr = ctypes.pointer(spectrum_buffer)\n",
    "# TRTSpectrumHeaderRecArray = TRTSpectrumHeaderRec * 64000\n",
    "# spectrum_buffer_ptr = ctypes.POINTER(TRTSpectrumHeaderRecArray)\n",
    "\n",
    "output = \\\n",
    "    esprit.GetSpectrum(CID, device, buffer, spectrum_buffer_ptr, buffer_size)\n",
    "\n",
    "if output==0:\n",
    "    error_message = ''\n",
    "    print(f'GetSpectrum is successfull\\n')\n",
    "    print_spectrum_header(spectrum_buffer)\n",
    "else:\n",
    "    error_message = f'Could not GetSpectrum, ERROR code is {output}' #', {errors[output]}'\n",
    "    print(error_message + '\\n')\n",
    "\n",
    "    \n",
    "print_spectrum_header(spectrum_buffer)\n",
    "    "
   ]
  },
  {
   "cell_type": "markdown",
   "id": "131df120",
   "metadata": {},
   "source": [
    "# 5. Save spectrum to file"
   ]
  },
  {
   "cell_type": "code",
   "execution_count": 50,
   "id": "ed85a1a0",
   "metadata": {},
   "outputs": [
    {
     "name": "stdout",
     "output_type": "stream",
     "text": [
      "spectrum_230503.131109.txt\n",
      "Could not save spectrum, ERROR code is -103, ERROR_INVALID_CONNECTION\n",
      "\n"
     ]
    }
   ],
   "source": [
    "# int32_t SaveSpectrum(uint32_t CID, int32_t Buffer, char* pFileName)\n",
    "# // Save spectrum buffer to file\n",
    "# function SaveSpectrum(CID:LongWord;Buffer:longint;pFileName:PAnsiChar):longint;stdcall;external csAPILibFile;\n",
    "#    // pFilename   : Complete filename for spectrum ( normally with *.spx extension )\n",
    "#    // Result      : Function call sucessful or not ( 0 = success, otherwise error )\n",
    "\n",
    "\n",
    "buffer = ctypes.c_int32(1) # Buffer index ( 0 for loaded spectrum buffer, > 0 for spectrometer buffers), 0 - reserved for Load\n",
    "\n",
    "ts = time.time()\n",
    "stamp = datetime.datetime.fromtimestamp(ts).strftime('%y%m%d.%H%M%S')  # make a timestamp for new file\n",
    "file_name = \"spectrum_\" + stamp + '.txt'\n",
    "print(file_name)\n",
    "file_name = file_name.encode('utf-8') # bytes, reference, char*, PAnsiChar equivalent\n",
    "\n",
    "\n",
    "output = \\\n",
    "    esprit.SaveSpectrum(CID, buffer, file_name)\n",
    "\n",
    "if output==0:\n",
    "    error_message = ''\n",
    "    print(f'Spectrum saved successfully to file {file_name}\\n')\n",
    "else:\n",
    "    error_message = f'Could not save spectrum, ERROR code is {output}, {errors[output]}'\n",
    "    print(error_message + '\\n')"
   ]
  },
  {
   "cell_type": "markdown",
   "id": "f1361c57",
   "metadata": {},
   "source": [
    "# 6. Get spectrometer params (necessary for PutSpectrum)"
   ]
  },
  {
   "cell_type": "code",
   "execution_count": 59,
   "id": "c828a50c",
   "metadata": {},
   "outputs": [
    {
     "name": "stdout",
     "output_type": "stream",
     "text": [
      "b'          '\n",
      "Could not perform GetSpectrometerParams, ERROR code is -106, ERROR_INVALID_RESULT_DATA\n",
      "\n",
      "b'          '\n"
     ]
    }
   ],
   "source": [
    "# int32_t GetSpectrometerParams(uint32_t CID, int32_t SPU, void* Buffer, int32_t& BufSize)\n",
    "# // Reads full parameter block of current spectrometer params (needed to create full Bruker spectrum)\n",
    "# *****\n",
    "# FSpectrometerParams : PAnsiChar;\n",
    "# BufCount:=32000;\n",
    "# ReAllocMem(FSpectrometerParams,BufCount);\n",
    "# GetSpectrometerParams(FCID,1,FSpectrometerParams,BufCount);\n",
    "# *****************\n",
    "# Params  : PAnsiChar;\n",
    "# ParSize:=20000;\n",
    "# Params:=AllocMem(ParSize);\n",
    "# if GetSpectrometerParams(FCID,FCurrentBuffer,Params,ParSize)=0 then\n",
    "\n",
    "buffer_size = 32000\n",
    "spectrometer_params = ' ' * buffer_size # memory reserved\n",
    "spectrometer_params = spectrometer_params.encode('utf-8') # bytes, reference, char*, PAnsiChar equivalent\n",
    "\n",
    "print(spectrometer_params[0:10])\n",
    "\n",
    "buffer_size = ctypes.c_int32(buffer_size)\n",
    "buffer_size_ptr = ctypes.pointer(buffer_size)\n",
    "\n",
    "SPU = ctypes.c_int32(1)  # Number of spectrometer (\"1\" in most cases)\n",
    "\n",
    "\n",
    "output = \\\n",
    "    esprit.GetSpectrometerParams(CID, SPU, spectrometer_params, buffer_size_ptr)\n",
    "\n",
    "if output==0:\n",
    "    error_message = ''\n",
    "    print(f'GetSpectrometerParams was acquired successfully\\n')\n",
    "else:\n",
    "    error_message = f'Could not perform GetSpectrometerParams, ERROR code is {output}, {errors[output]}'\n",
    "    print(error_message + '\\n')\n",
    "    \n",
    "    \n",
    "print(spectrometer_params[0:10])\n"
   ]
  },
  {
   "cell_type": "markdown",
   "id": "b20b7039",
   "metadata": {},
   "source": [
    "# 7. Create Spectrum"
   ]
  },
  {
   "cell_type": "code",
   "execution_count": 65,
   "id": "0c75e16a",
   "metadata": {},
   "outputs": [
    {
     "name": "stdout",
     "output_type": "stream",
     "text": [
      "b'          '\n",
      "Could not perform CreateSpectrum, ERROR code is -101, ERROR_WRONG_PARAMETER\n",
      "\n"
     ]
    }
   ],
   "source": [
    "# int32_t CreateSpectrum(char* SpectrometerParams, PRTSpectrumHeaderRec SpectrumData, char* ResultData, int32_t& ResultSize)\n",
    "# // Create a complete Bruker spectrum from\n",
    "# Bruker.API.CommonFunctions_imp.CreateSpectrum(Params,SpectrumBuf,FullSpectrum,FullSize)=0\n",
    "# **************************\n",
    "# Params      : PAnsiChar;\n",
    "# SpectrumBuf : PRTAPISpectrumHeaderRec;\n",
    "# FullSpectrum: PAnsiChar;\n",
    "# FullSize:=50000;\n",
    "# FullSpectrum:=AllocMem(FullSize);    \n",
    "# ParSize:=20000;\n",
    "# Params:=AllocMem(ParSize);    \n",
    "# SpectrumBuf:=AllocMem(64000);\n",
    "# FullSpectrum,FullSize ->    ResultData,  ResultSize\n",
    "\n",
    "result_size = 50000\n",
    "result_size = ctypes.c_int32(result_size)\n",
    "result_size_ptr = ctypes.pointer(result_size)\n",
    "\n",
    "result_data = ' ' * result_size.value # memory reserved\n",
    "result_data = result_data.encode('utf-8') # bytes, reference, char*, PAnsiChar equivalent\n",
    "\n",
    "spectrum_data = TRTSpectrumHeaderRec()\n",
    "spectrum_data_ptr = ctypes.pointer(spectrum_data)\n",
    "# TRTSpectrumHeaderRecArray = TRTSpectrumHeaderRec * 64000\n",
    "# spectrum_data_ptr = ctypes.POINTER(TRTSpectrumHeaderRecArray)\n",
    "\n",
    "print(spectrometer_params[0:10])\n",
    "\n",
    "\n",
    "output = \\\n",
    "    esprit.CreateSpectrum(spectrometer_params, spectrum_data, result_data, result_size_ptr)\n",
    "\n",
    "if output==0:\n",
    "    error_message = ''\n",
    "    print(f'CreateSpectrum was performed successfully\\n')\n",
    "else:\n",
    "    error_message = f'Could not perform CreateSpectrum, ERROR code is {output}, {errors[output]}'\n",
    "    print(error_message + '\\n')"
   ]
  },
  {
   "cell_type": "code",
   "execution_count": 66,
   "id": "8f93849a",
   "metadata": {},
   "outputs": [
    {
     "data": {
      "text/plain": [
       "b'          '"
      ]
     },
     "execution_count": 66,
     "metadata": {},
     "output_type": "execute_result"
    }
   ],
   "source": [
    "result_data[0:10]"
   ]
  },
  {
   "cell_type": "markdown",
   "id": "971e38ff",
   "metadata": {},
   "source": [
    "# 8. Put spectrum"
   ]
  },
  {
   "cell_type": "code",
   "execution_count": 67,
   "id": "b104c8eb",
   "metadata": {},
   "outputs": [
    {
     "name": "stdout",
     "output_type": "stream",
     "text": [
      "Could not perform PutSpectrum, ERROR code is -109, ERROR_IN_EXECUTION\n",
      "\n"
     ]
    }
   ],
   "source": [
    "# int32_t PutSpectrum(uint32_t CID, void* Spectrum, int32_t BufSize)\n",
    "# *****\n",
    "# // Send spectrum back to 'loaded' buffer\n",
    "# // Spectrum : Bruker spectrum buffer\n",
    "# // BufferSiz: size of spectrum buffer\n",
    "# // Result   : Function call sucessful or not ( 0 = success, otherwise error )\n",
    "# // Remarks  : if one wants to use that function one has to build a complete Bruker spectrum with\n",
    "# //                functions 'GetSpectrum', 'GetSpectrometerParams' and 'CreateSpectrum'\n",
    "# if Bruker.API.CommonFunctions_imp.CreateSpectrum(Params,SpectrumBuf,FullSpectrum,FullSize)=0\n",
    "#                      then PutSpectrum(FCID,FullSpectrum,FullSize);\n",
    "# FullSpectrum,FullSize ->    ResultData,  ResultSize\n",
    "\n",
    "\n",
    "output = \\\n",
    "    esprit.PutSpectrum(CID, result_data, result_size)\n",
    "\n",
    "if output==0:\n",
    "    error_message = ''\n",
    "    print(f'PutSpectrum was performed successfully\\n')\n",
    "else:\n",
    "    error_message = f'Could not perform PutSpectrum, ERROR code is {output}, {errors[output]}'\n",
    "    print(error_message + '\\n')"
   ]
  },
  {
   "cell_type": "code",
   "execution_count": 69,
   "id": "38ca5ce4",
   "metadata": {},
   "outputs": [
    {
     "data": {
      "text/plain": [
       "c_ulong(123456)"
      ]
     },
     "execution_count": 69,
     "metadata": {},
     "output_type": "execute_result"
    }
   ],
   "source": [
    "CID"
   ]
  },
  {
   "cell_type": "code",
   "execution_count": null,
   "id": "43edbdb7",
   "metadata": {},
   "outputs": [],
   "source": []
  },
  {
   "cell_type": "code",
   "execution_count": null,
   "id": "a67b6a33",
   "metadata": {},
   "outputs": [],
   "source": []
  },
  {
   "cell_type": "markdown",
   "id": "fe89a545",
   "metadata": {},
   "source": [
    "# Read X-ray spectrum from file"
   ]
  },
  {
   "cell_type": "code",
   "execution_count": 94,
   "id": "59f8a412",
   "metadata": {},
   "outputs": [
    {
     "name": "stdout",
     "output_type": "stream",
     "text": [
      "['C:\\\\Users\\\\sergeyg\\\\Github\\\\Minipix\\\\x-ray\\\\spectrum_230504.114844.txt', 'C:\\\\Users\\\\sergeyg\\\\Github\\\\Minipix\\\\x-ray\\\\spectrum_230504.115205.txt']\n"
     ]
    }
   ],
   "source": [
    "data_dir = r'C:\\Users\\sergeyg\\Github\\Minipix\\x-ray'\n",
    "\n",
    "spectra = glob.glob(data_dir + '/' + '*.txt')\n",
    "\n",
    "print(spectra)"
   ]
  },
  {
   "cell_type": "code",
   "execution_count": 97,
   "id": "fb8e39e1",
   "metadata": {},
   "outputs": [],
   "source": [
    "spectrum = np.loadtxt(spectra[1], skiprows=26)"
   ]
  },
  {
   "cell_type": "code",
   "execution_count": 100,
   "id": "aeb84c81",
   "metadata": {},
   "outputs": [
    {
     "data": {
      "text/plain": [
       "array([-0.4774, -0.4723, -0.4674, ..., 19.9877, 19.9927, 19.9977])"
      ]
     },
     "execution_count": 100,
     "metadata": {},
     "output_type": "execute_result"
    }
   ],
   "source": [
    "spectrum = np.transpose(spectrum)\n",
    "spectrum[0]"
   ]
  },
  {
   "cell_type": "code",
   "execution_count": 101,
   "id": "c2b5a36e",
   "metadata": {},
   "outputs": [],
   "source": [
    "energy = spectrum[0]\n",
    "counts = spectrum[1]"
   ]
  },
  {
   "cell_type": "code",
   "execution_count": 102,
   "id": "f4e5a38f",
   "metadata": {},
   "outputs": [
    {
     "data": {
      "text/plain": [
       "[<matplotlib.lines.Line2D at 0x1326e2431c0>]"
      ]
     },
     "execution_count": 102,
     "metadata": {},
     "output_type": "execute_result"
    },
    {
     "data": {
      "image/png": "[encoded data removed]",
      "text/plain": [
       "<Figure size 432x288 with 1 Axes>"
      ]
     },
     "metadata": {
      "needs_background": "light"
     },
     "output_type": "display_data"
    }
   ],
   "source": [
    "plt.plot(energy, counts)"
   ]
  },
  {
   "cell_type": "code",
   "execution_count": null,
   "id": "f3453495",
   "metadata": {},
   "outputs": [],
   "source": []
  },
  {
   "cell_type": "code",
   "execution_count": null,
   "id": "6f02299a",
   "metadata": {},
   "outputs": [],
   "source": []
  },
  {
   "cell_type": "code",
   "execution_count": null,
   "id": "ab225012",
   "metadata": {},
   "outputs": [],
   "source": []
  },
  {
   "cell_type": "code",
   "execution_count": null,
   "id": "e1ae5cf4",
   "metadata": {},
   "outputs": [],
   "source": []
  },
  {
   "cell_type": "code",
   "execution_count": null,
   "id": "85d447d7",
   "metadata": {},
   "outputs": [],
   "source": []
  },
  {
   "cell_type": "code",
   "execution_count": null,
   "id": "b5fcc3ba",
   "metadata": {},
   "outputs": [],
   "source": []
  },
  {
   "cell_type": "code",
   "execution_count": null,
   "id": "81bf9e12",
   "metadata": {},
   "outputs": [],
   "source": []
  },
  {
   "cell_type": "code",
   "execution_count": null,
   "id": "8edd2be8",
   "metadata": {},
   "outputs": [],
   "source": []
  },
  {
   "cell_type": "code",
   "execution_count": null,
   "id": "645e47ae",
   "metadata": {},
   "outputs": [],
   "source": []
  },
  {
   "cell_type": "code",
   "execution_count": null,
   "id": "b153cbd2",
   "metadata": {},
   "outputs": [],
   "source": []
  },
  {
   "cell_type": "code",
   "execution_count": null,
   "id": "e1bff07c",
   "metadata": {},
   "outputs": [],
   "source": []
  },
  {
   "cell_type": "code",
   "execution_count": null,
   "id": "c2853ff7",
   "metadata": {},
   "outputs": [],
   "source": []
  },
  {
   "cell_type": "code",
   "execution_count": null,
   "id": "e02564ad",
   "metadata": {},
   "outputs": [],
   "source": []
  },
  {
   "cell_type": "markdown",
   "id": "2a8e037d",
   "metadata": {},
   "source": [
    "# Device API, low level commands"
   ]
  },
  {
   "cell_type": "code",
   "execution_count": 14,
   "id": "4fd80791",
   "metadata": {},
   "outputs": [
    {
     "name": "stdout",
     "output_type": "stream",
     "text": [
      "C:\\Users\\sergeyg\\Github\\Bruker Nano APIs\\Device API\\Sample\\Bruker.API.Devices64.dll <CDLL 'C:\\Users\\sergeyg\\Github\\Bruker Nano APIs\\Device API\\Sample\\Bruker.API.Devices64.dll', handle aa0000 at 0x159e8d30580>\n",
      "Connection to Bruker API established\n"
     ]
    }
   ],
   "source": [
    "#path_to_dll = r'C:\\Users\\sergeyg\\WORK.FILES\\Bruker Nano APIs\\Device API\\Sample\\Bruker.API.Devices64.dll'\n",
    "path_to_dll_Bruker = r'C:\\Users\\sergeyg\\Github\\Bruker Nano APIs\\Device API\\Sample\\Bruker.API.Devices64.dll'\n",
    "\n",
    "\n",
    "errors = {-1 : 'ERROR_UNSPECIFIED',\n",
    "         -2 : 'ERROR_WRONG_PARAMETER',\n",
    "         -3 : 'ERROR_DEVICE_NOT_INITIALIZED',\n",
    "         -4 : 'ERROR_DSP_ERROR',\n",
    "         -5 : 'ERROR_BUFFER_TOO_SMALL',\n",
    "         -6 : 'ERROR_SCAN_ACTIVE',\n",
    "         -7 : 'ERROR_INVALID_MEMORYBLOCK',\n",
    "         -8 : 'ERROR_BUFFER_OVERFLOW',\n",
    "         -9 : 'ERROR_LOG_NOT_AVAILABLE',\n",
    "         -10 : 'ERROR_FILE_NOT_EXISTS'\n",
    "}\n",
    "\n",
    "\n",
    "bruker = ctypes.cdll.LoadLibrary(path_to_dll_Bruker)\n",
    "print(path_to_dll_Bruker, bruker)\n",
    "\n",
    "\n",
    "\n",
    "output = bruker.InitializeIOScan()  # establishes connection between IOScan device and user program.\n",
    "if output == 0:\n",
    "    # no error\n",
    "    print('Connection to Bruker API established')\n",
    "else:\n",
    "    print('Connection failed')"
   ]
  },
  {
   "cell_type": "code",
   "execution_count": 15,
   "id": "4194bc8a",
   "metadata": {},
   "outputs": [
    {
     "name": "stdout",
     "output_type": "stream",
     "text": [
      "-100\n"
     ]
    }
   ],
   "source": [
    "point = bruker.ImageGetPoint()\n",
    "\n",
    "print(point)"
   ]
  },
  {
   "cell_type": "code",
   "execution_count": 16,
   "id": "139963ad",
   "metadata": {},
   "outputs": [
    {
     "name": "stdout",
     "output_type": "stream",
     "text": [
      "0 ; setting external SEM mode to  True\n"
     ]
    }
   ],
   "source": [
    "external = True\n",
    "\n",
    "output = bruker.ImageSetSEMExternMode(external)\n",
    "\n",
    "if output == 0:\n",
    "    # no error\n",
    "    print(output, '; setting external SEM mode to ', str(external))\n",
    "else:\n",
    "    error_message = f'Could not set the external scan mode to {external}, ERROR code is {output}, {errors[output]}'\n",
    "    print(error_message + '\\n')"
   ]
  },
  {
   "cell_type": "code",
   "execution_count": 17,
   "id": "f0281ee3",
   "metadata": {},
   "outputs": [
    {
     "name": "stdout",
     "output_type": "stream",
     "text": [
      "acquisition mode = 0, normal image scan\n"
     ]
    }
   ],
   "source": [
    "output = bruker.ImageGetAcquisitionMode()\n",
    "\n",
    "if output==0:\n",
    "    print(f'acquisition mode = {output}, normal image scan')\n",
    "elif output==1:\n",
    "    print(f'acquisition mode = {output}, SetPoint mode')    \n",
    "if output==2:\n",
    "    print(f'acquisition mode = {output}, external triggered mode (TTL input)')    "
   ]
  },
  {
   "cell_type": "code",
   "execution_count": 18,
   "id": "d691acc4",
   "metadata": {},
   "outputs": [
    {
     "name": "stdout",
     "output_type": "stream",
     "text": [
      "1 2\n"
     ]
    }
   ],
   "source": [
    "def create_point_array(coordinates):\n",
    "    N = len(coordinates)  # number of points\n",
    "    array_of_N_points = TPoint * N  # make a new \"class\" of array with N elements\n",
    "    points = array_of_N_points()  # initialise an array variable\n",
    "    #\n",
    "    for ii, point in enumerate(points):\n",
    "        x = coordinates[ii][0]\n",
    "        y = coordinates[ii][1]\n",
    "        points[ii].X = x\n",
    "        points[ii].Y = y\n",
    "    return points\n",
    "\n",
    "\n",
    "coordinates = [[1, 2], [3, 4], [5, 6], [7, 8]]\n",
    "N = len(coordinates)\n",
    "\n",
    "points = create_point_array(coordinates)\n",
    "\n",
    "output = bruker.ImageSetPointList(N, points)\n",
    "\n",
    "print(points[0].X, points[0].Y)"
   ]
  },
  {
   "cell_type": "code",
   "execution_count": 19,
   "id": "eb9648d8",
   "metadata": {},
   "outputs": [
    {
     "data": {
      "text/plain": [
       "-100"
      ]
     },
     "execution_count": 19,
     "metadata": {},
     "output_type": "execute_result"
    }
   ],
   "source": [
    "# ImageSetConfiguration(256,256,1,1,12,\n",
    "#                       true,false,false,false,\n",
    "#                       0,0,0,0,\n",
    "#                       cmw,pt);\n",
    "#\n",
    "#\n",
    "#\n",
    "# ImageWidth,   Number of pixels in horizontal direction\n",
    "# ImageHeight,  Number of pixels in vertical direction\n",
    "# PixelAverage, Number of pixel average cycles\n",
    "# LineAverage,  Number of line average cycles\n",
    "# SEBitcount: word;   Use input channel 1 for scan\n",
    "\n",
    "# Input1Used,         Use input channel 2 for scan\n",
    "# Input2Used,         Use power synchronization for scan\n",
    "# PowerSyncUsed,      Use counters for scan\n",
    "# CounterUsed: boolean;\n",
    "\n",
    "# CounterIndex       Index of counter mode according to counter mode strings\n",
    "# ActiveCounters: word;    Used counters for scanning, every bit set signals an active counter\n",
    "# TiltAngle: integer;     Current sample tilt\n",
    "# TiltDirection: byte;  Current tilt direction 0 = no tilt; 1 = tilt in X direction; 2 = tilt in Y direction\n",
    "# return var CounterModeWord: word; Return value to set the counter mode\n",
    "# return var PixelTime: word): integer; Return value for the pixel time according to the number of input channels used\n",
    "\n",
    "\n",
    "# var CounterModeWord      //According to counter index the counter mode word for the PCI-Card\n",
    "#                         : word;\n",
    "# var PixelTime : word    //Current pixel time according to number of used input channels\n",
    "#                         //normally 1µs for one channel, 2µs for two channels used\n",
    "\n",
    "\n",
    "\n",
    "# TODO, the function seems to RETURN the pixel_time rather than to set it... \n",
    "\n",
    "\n",
    "image_width  = ctypes.c_int16(1024)\n",
    "image_height = ctypes.c_int16(682)\n",
    "pixel_average = ctypes.c_int16(1)\n",
    "line_average  = ctypes.c_int16(1)\n",
    "bit_depth = ctypes.c_int16(12) \n",
    "###\n",
    "input_1_used    = ctypes.c_bool(True)\n",
    "input_2_used    = ctypes.c_bool(False)\n",
    "power_sync_used = ctypes.c_bool(False)\n",
    "counter_used    = ctypes.c_bool(False)\n",
    "###\n",
    "counter_index = ctypes.c_int16(0)\n",
    "active_counters = ctypes.c_int16(0)\n",
    "tilt_angle = ctypes.c_int32(0)\n",
    "tilt_direction = ctypes.c_int8(0)\n",
    "###\n",
    "counter_mode = ctypes.c_int16(0)\n",
    "pixel_time = ctypes.c_int16(10)\n",
    "\n",
    "bruker.ImageSetConfiguration(image_width, image_height,\n",
    "                             pixel_average, line_average,\n",
    "                             bit_depth, \n",
    "                             input_1_used, input_2_used,\n",
    "                             power_sync_used, counter_used,\n",
    "                             counter_index, active_counters,\n",
    "                             tilt_angle, tilt_direction,\n",
    "                             counter_mode, \n",
    "                             pixel_time)"
   ]
  },
  {
   "cell_type": "code",
   "execution_count": 20,
   "id": "9e50c7ab",
   "metadata": {},
   "outputs": [
    {
     "data": {
      "text/plain": [
       "0"
      ]
     },
     "execution_count": 20,
     "metadata": {},
     "output_type": "execute_result"
    }
   ],
   "source": [
    "bruker.ImageStart()"
   ]
  },
  {
   "cell_type": "code",
   "execution_count": 21,
   "id": "bb64c240",
   "metadata": {},
   "outputs": [
    {
     "data": {
      "text/plain": [
       "-100"
      ]
     },
     "execution_count": 21,
     "metadata": {},
     "output_type": "execute_result"
    }
   ],
   "source": [
    "bruker.ImageGetState()"
   ]
  },
  {
   "cell_type": "code",
   "execution_count": null,
   "id": "4c83a312",
   "metadata": {},
   "outputs": [],
   "source": []
  }
 ],
 "metadata": {
  "kernelspec": {
   "display_name": "kikuchi",
   "language": "python",
   "name": "kikuchi"
  },
  "language_info": {
   "codemirror_mode": {
    "name": "ipython",
    "version": 3
   },
   "file_extension": ".py",
   "mimetype": "text/x-python",
   "name": "python",
   "nbconvert_exporter": "python",
   "pygments_lexer": "ipython3",
   "version": "3.10.4"
  }
 },
 "nbformat": 4,
 "nbformat_minor": 5
}
