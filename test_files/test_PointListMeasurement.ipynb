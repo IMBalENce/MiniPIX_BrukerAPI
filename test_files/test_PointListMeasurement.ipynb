{
 "cells": [
  {
   "cell_type": "code",
   "execution_count": 7,
   "id": "cd7300fb",
   "metadata": {},
   "outputs": [],
   "source": [
    "import ctypes\n",
    "import sys\n",
    "import time\n",
    "import numpy as np\n",
    "import matplotlib.pyplot as plt\n",
    "\n",
    "\n",
    "#path_to_dll = r'F:\\SharedData\\MCEM Data - Staff Only\\Bruker API\\Esprit API\\Bruker.API.Esprit64.dll'\n",
    "path_to_dll = r'C:\\Users\\sergeyg\\Github\\Bruker Nano APIs\\Esprit API\\Bruker.API.Esprit64.dll'"
   ]
  },
  {
   "cell_type": "markdown",
   "id": "0d355d7c",
   "metadata": {},
   "source": [
    "# Definitions"
   ]
  },
  {
   "cell_type": "code",
   "execution_count": 8,
   "id": "e1b76261",
   "metadata": {},
   "outputs": [],
   "source": [
    "# TOpenClientOptions = packed record // structure to describe Quantax start options in ‘OpenClientEx’\n",
    "# Version: integer; // Version of record structure, should be ‘l’ at the moment\n",
    "# GUIMode: integer; // ‘0’ = no GUI, ‘1’ = full GUI, ‘2’ = reduced GUI (spectrum chart only)\n",
    "# StartNew: boolean; // start new instance of Quantax end;\n",
    "# POpenClientOptions = ^ TOpenClientOptions;\n",
    "class TOpenClientOptions(ctypes.Structure):\n",
    "    _pack_ = 1\n",
    "    _fields_ = [\n",
    "        ('Version',  ctypes.c_uint32),\n",
    "        ('GUIMode',  ctypes.c_uint32),\n",
    "        ('StartNew', ctypes.c_bool),\n",
    "        ('IdentifierLength', ctypes.c_int8),\n",
    "        ('TCPHost', ctypes.c_char * 64),\n",
    "        ('TCPPort', ctypes.c_uint16)\n",
    "    ]\n",
    "\n",
    "class TPoint(ctypes.Structure):\n",
    "    _pack_ = 1\n",
    "    _fields_ = [\n",
    "        ('X', ctypes.c_uint32),\n",
    "        ('Y', ctypes.c_uint32)\n",
    "    ]\n",
    "TPointArray = TPoint * 16382\n",
    "PPointArray = ctypes.POINTER(TPointArray)\n",
    "\n",
    "\n",
    "# pixelsize = um/pixel\n",
    "class TRTImageInfoEx(ctypes.Structure):\n",
    "    _pack_ = 1\n",
    "    _fields_ = [\n",
    "        ('Magnification',   ctypes.c_int32),\n",
    "        ('PixelSizeX',      ctypes.c_double),\n",
    "        ('PixelSizeY',      ctypes.c_double),\n",
    "        ('HighVoltage',     ctypes.c_double),\n",
    "        ('WorkingDistance', ctypes.c_double)\n",
    "    ]\n",
    "# typedef TRTImageInfoEx* PRTImageInfoEx;\n",
    "\n",
    "\n",
    "# Y value of segment\n",
    "# XStart : x start position on that line\n",
    "# XCount : number of contiguous pixels\n",
    "# in Delphi TRTSegment = packed record\n",
    "class TSegment(ctypes.Structure):\n",
    "    _pack_ = 1\n",
    "    _fields_ = [\n",
    "        ('Y'     , ctypes.c_uint32),\n",
    "        ('XStart', ctypes.c_uint32),\n",
    "        ('XCount', ctypes.c_uint32)\n",
    "    ]\n",
    "\n",
    "\n",
    "class TLineSegment(ctypes.Structure):\n",
    "    # TLineSegment     = packed record\n",
    "    #    Y,XStart,XEnd : word;\n",
    "    #  end;\n",
    "    # TLineSegmentArray = array[0..8191] of TLineSegment;\n",
    "    _pack_ = 1\n",
    "    _fields_ = [\n",
    "        ('Y', ctypes.c_ushort),\n",
    "        ('XStart', ctypes.c_ushort),\n",
    "        ('XEnd', ctypes.c_ushort)\n",
    "    ]    \n",
    "    \n",
    "# struct TRTSpectrumHeaderRec {\n",
    "# \tunsigned __int8 IdentifierLength;\n",
    "# \tchar Identifier[25];\t\t\t// 'Rontec XRay spectrum'\n",
    "# \tint32_t Version;\t\t\t\t// Version information\n",
    "# \tint32_t Size;\t\t\t\t\t// Size in byte\n",
    "# \tdouble DateTime;\t\t\t\t// Delphi 5.0 version of date and time\n",
    "# \tint32_t ChannelCount;\t\t\t//\n",
    "# \tint32_t ChannelOffset;\t\t\t// First channel index\n",
    "# \tdouble CalibrationAbs;\t\t\t// Energy of first channel\n",
    "# \tdouble CalibrationLin;          // keV per channel\n",
    "# \tdouble SigmaAbs;\t\t\t\t// Sigma^2 energy calibration\n",
    "# \tdouble SigmaLin;\n",
    "# \t// additional data compared to normal Roentec header\n",
    "# \tint32_t RealTime;\t\t\t\t\t// real measure time in ms\n",
    "# \tint32_t LifeTime;\t\t\t\t\t// life time in ms\n",
    "# };\n",
    "# #pragma pack(pop)\n",
    "\n",
    "\n",
    "class TRTSpectrumHeaderRec(ctypes.Structure):\n",
    "    _pack_ = 1\n",
    "    _fields_ = [\n",
    "        ('Identifier', ctypes.c_char_p*25),\n",
    "        ('Version', ctypes.c_uint32),\n",
    "        ('Size', ctypes.c_uint32),\n",
    "        ('DateTime', ctypes.c_double),\n",
    "        ('ChannelCount', ctypes.c_uint32),\n",
    "        ('ChannelOffset', ctypes.c_uint32),\n",
    "        ('CalibrationAbs', ctypes.c_double),\n",
    "        ('CalibrationLin', ctypes.c_double),\n",
    "        ('SigmaAbs', ctypes.c_double),\n",
    "        ('SigmaLin', ctypes.c_double),\n",
    "        ('RealTime', ctypes.c_uint32),\n",
    "        ('LifeTime', ctypes.c_uint32)\n",
    "    ]\n",
    "\n",
    "    \n",
    "    \n",
    "\n",
    "errors = {-1 : 'IFC_ERROR_IN_EXECUTION',\n",
    "         -2 : 'IFC_ERROR_WRONG_PARAMETER (execution)',\n",
    "         -3 : 'IFC_ERROR_SPECTRUM_BUFFER_EMPTY',\n",
    "         -4 : 'IFC_ERROR_PARAMETER_MISSED',\n",
    "         -5 : 'IFC_ERROR_TOO_MANY_PARAMETERS',\n",
    "         -6 : 'IFC_ERROR_USER_TERMINATED',\n",
    "         -7 : 'IFC_ERROR_TIMEOUT',\n",
    "         -8 : 'IFC_ERROR_UNKNOWN_VALUE_NAME',\n",
    "         -9 : 'IFC_ERROR_WRONG_VALUE_TYPE',\n",
    "         -10 : 'IFC_ERROR_NO_LICENCE',\n",
    "         -11 : 'IFC_ERROR_RESULT_BUFFER_INSUFFICIENT',\n",
    "         -12 : 'IFC_ERROR_HARDWARE_LOCKED',\n",
    "         -51: 'IFS_ERROR_PARAMETER_MISSED',\n",
    "         -52 : 'IFS_ERROR_FUNCTION_NOT_IMPLEMENTED',\n",
    "         -21 : 'CONN_ERROR_UNKNOWN',\n",
    "         -22 : 'CONN_ERROR_INTERFACE_NOT_CONNECTED',\n",
    "         -23 : 'CONN_ERROR_PARAMETER_MISSED',\n",
    "         -24 : 'CONN_ERROR_ANSWER_TIMEOUT',\n",
    "         -25 : 'CONN_ERROR_SERVER_NOT_RESPONDING',\n",
    "         -26 : 'CONN_ERROR_RESULT_MISSED',\n",
    "         -27 : 'CONN_ERROR_NO_INTERFACE',\n",
    "         -28 : 'CONN_ERROR_INVALID_LOGIN',\n",
    "         -29 : 'CONN_ERROR_NO_CONNECTION_TO_SERVER',\n",
    "         -30 : 'CONN_ERROR_SERVER',\n",
    "         -31 : 'CONN_ERROR_ACTION_ABORTED',\n",
    "         -101 : 'ERROR_WRONG_PARAMETER',\n",
    "         -102 : 'ERROR_FILE_NOT_EXIST',\n",
    "         -103 : 'ERROR_INVALID_CONNECTION',\n",
    "         -104 : 'ERROR_NO_ANSWER',\n",
    "         -105 : 'ERROR_CAN_NOT_START_PROCESS',\n",
    "         -106 : 'ERROR_INVALID_RESULT_DATA',\n",
    "         -107 : 'ERROR_SETTINGS_NOT_FOUND',\n",
    "         -108 : 'ERROR_INVALID_SERVER_CONNECTION',\n",
    "         -109 : 'ERROR_IN_EXECUTION',\n",
    "         -110 : 'ERROR_IFC_BUSY',\n",
    "         -201 : 'STATE_WAS_RUNNING_BEFORE'\n",
    "}"
   ]
  },
  {
   "cell_type": "markdown",
   "id": "d8859ba5",
   "metadata": {},
   "source": [
    "# Initialise the connection to Bruker Espirit API"
   ]
  },
  {
   "cell_type": "code",
   "execution_count": 11,
   "id": "dc25e78c",
   "metadata": {},
   "outputs": [
    {
     "name": "stdout",
     "output_type": "stream",
     "text": [
      "C:\\Users\\sergeyg\\Github\\Bruker Nano APIs\\Esprit API\\Bruker.API.Esprit64.dll <CDLL 'C:\\Users\\sergeyg\\Github\\Bruker Nano APIs\\Esprit API\\Bruker.API.Esprit64.dll', handle 400000 at 0x159e8d31780>\n"
     ]
    }
   ],
   "source": [
    "pServer = ''.encode('utf-8') # Pointer to a server name (if empty the local/default server is referenced)\n",
    "\n",
    "User = 'edx'\n",
    "pUser = User.encode('utf-8')\n",
    "\n",
    "password = 'edx'\n",
    "pPassword = password.encode('utf-8')\n",
    "\n",
    "host = '127.0.0.1' # 'local host'\n",
    "pHost = host.encode('utf-8')\n",
    "\n",
    "port = ctypes.c_uint16(0)\n",
    "\n",
    "Options = TOpenClientOptions()\n",
    "Options.Version = 1\n",
    "Options.GUIMode = 1 # GUIMode: integer; // ‘0’ = no GUI, ‘1’ = full GUI, ‘2’ = reduced GUI (spectrum chart only)\n",
    "Options.StartNew = False # If true, function starts always a new client instance\n",
    "Options.IdentifierLength = 8 # ???\n",
    "Options.TCPHost = host.encode('utf-8')\n",
    "Options.TCPport = port\n",
    "Options_ptr = ctypes.pointer(Options)\n",
    "\n",
    "\n",
    "CID = ctypes.c_uint32(123456)  # Identification code for an actual server/client instance\n",
    "CID_ptr = ctypes.pointer(CID)  # Pointer to Identification code for an actual server/client instance\n",
    "\n",
    "StartNew = ctypes.c_bool(False)\n",
    "GUI      = ctypes.c_bool(True) \n",
    "\n",
    "try:\n",
    "    espirit = ctypes.cdll.LoadLibrary(path_to_dll)\n",
    "    print(path_to_dll, espirit)\n",
    "except:\n",
    "    error_message = f'path to dll {path_to_dll} does not exist'\n",
    "    print(error_message + '\\n')"
   ]
  },
  {
   "cell_type": "markdown",
   "id": "f1bfb32f",
   "metadata": {},
   "source": [
    "# Connect to the API server"
   ]
  },
  {
   "cell_type": "code",
   "execution_count": 12,
   "id": "dbe5de85",
   "metadata": {},
   "outputs": [
    {
     "name": "stdout",
     "output_type": "stream",
     "text": [
      "Identification code for an actual server/client instance 123456\n",
      "Error output = ERROR_FILE_NOT_EXIST\n"
     ]
    }
   ],
   "source": [
    "### Connect to ESpirit\n",
    "\n",
    "output = espirit.OpenClient(pServer, pUser, pPassword, StartNew, GUI, CID_ptr)\n",
    "\n",
    "print(f'Identification code for an actual server/client instance {CID.value}')\n",
    "\n",
    "print(f'Error output = {errors[output]}')"
   ]
  },
  {
   "cell_type": "markdown",
   "id": "84280d88",
   "metadata": {},
   "source": [
    "# Verify the connection, test a simple quiry"
   ]
  },
  {
   "cell_type": "code",
   "execution_count": 13,
   "id": "2bbaf48f",
   "metadata": {},
   "outputs": [
    {
     "name": "stdout",
     "output_type": "stream",
     "text": [
      "No SEM servers/clients info could be fetched, ERROR code is -103, ERROR_INVALID_CONNECTION\n",
      "\n"
     ]
    }
   ],
   "source": [
    "buffer_size = ctypes.c_int32(999)\n",
    "query = ' ' * 1000 # block of memory for 1000 characters\n",
    "query = query.encode('utf-8') # bytes, reference, char*\n",
    "\n",
    "output = \\\n",
    "    espirit.QueryInfo(CID, query, buffer_size)\n",
    "\n",
    "if output==0:\n",
    "    print('SEM servers/client: ', str(query), '\\n')\n",
    "    error_message = ''\n",
    "else:\n",
    "    error_message = f'No SEM servers/clients info could be fetched, ERROR code is {output}, {errors[output]}'\n",
    "    print( error_message + '\\n')"
   ]
  },
  {
   "cell_type": "markdown",
   "id": "253ab32f",
   "metadata": {},
   "source": [
    "# Quiery the SEM state, test communication with the API"
   ]
  },
  {
   "cell_type": "code",
   "execution_count": 63,
   "id": "e3169f48",
   "metadata": {},
   "outputs": [
    {
     "name": "stdout",
     "output_type": "stream",
     "text": [
      "mag = 0.0, HV = 0.0, WD = 0.0\n",
      "No SEM data could be fetched, ERROR code is -103, ERROR_INVALID_CONNECTION\n",
      "\n"
     ]
    }
   ],
   "source": [
    "mag = ctypes.c_double(0) # magnification\n",
    "high_voltage  = ctypes.c_double(0) # high voltage in keV\n",
    "working_distance  = ctypes.c_double(0) # working ditance in mm\n",
    "mag_ptr = ctypes.pointer(mag)\n",
    "high_voltage_ptr = ctypes.pointer(high_voltage)\n",
    "working_distance_ptr = ctypes.pointer(working_distance)\n",
    "\n",
    "output = \\\n",
    "    espirit.GetSEMData(CID, mag_ptr, high_voltage_ptr, working_distance_ptr)\n",
    "\n",
    "print(f'mag = {mag.value}, HV = {high_voltage.value}, WD = {working_distance.value}')\n",
    "if output==0:\n",
    "    error_message = ''\n",
    "    print('SEM data retrieved successfully\\n')\n",
    "else:\n",
    "    error_message = f'No SEM data could be fetched, ERROR code is {output}, {errors[output]}'\n",
    "    print( error_message + '\\n')"
   ]
  },
  {
   "cell_type": "markdown",
   "id": "8da2ed1a",
   "metadata": {},
   "source": [
    "# Retrieve the image settings"
   ]
  },
  {
   "cell_type": "code",
   "execution_count": 64,
   "id": "105c2c76",
   "metadata": {},
   "outputs": [
    {
     "name": "stdout",
     "output_type": "stream",
     "text": [
      "No image configuration could be retrieved, ERROR code is -103, ERROR_INVALID_CONNECTION\n",
      "\n"
     ]
    }
   ],
   "source": [
    "# int32_t ImageGetConfiguration(uint32_t CID, uint32_t & Width, uint32_t & Height, uint32_t & Average, bool & Ch1, bool & Ch2)\n",
    "# ImageGetConfiguration(FCID,w,h,Average,Ch1,Ch2);\n",
    "# w,h, Average      : Cardinal;\n",
    "# Width: Image  width in pixel\n",
    "# Height: Image height in pixel\n",
    "# Average: Number of pixel average cycles. Depending on the number of active channels one cycle takes\n",
    "# 1 us (for one active channel) or 2 us (for two active channels)\n",
    "# Ch1, Ch2: Image channel active or not\n",
    "\n",
    "width   = ctypes.c_uint32(0) # image width\n",
    "height  = ctypes.c_uint32(0) # image height\n",
    "average = ctypes.c_uint32(1)\n",
    "Ch1     = ctypes.c_bool(False)\n",
    "Ch2     = ctypes.c_bool(False)\n",
    "################## pointers ##################\n",
    "width_ptr   = ctypes.pointer(width)\n",
    "height_ptr  = ctypes.pointer(height)\n",
    "average_ptr = ctypes.pointer(average)\n",
    "Ch1_ptr     = ctypes.pointer(Ch1)\n",
    "Ch2_ptr     = ctypes.pointer(Ch2)\n",
    "\n",
    "\n",
    "output = \\\n",
    "    espirit.ImageGetConfiguration(CID,\n",
    "                                 width_ptr, height_ptr,\n",
    "                                 average_ptr, Ch1_ptr, Ch2_ptr)\n",
    "\n",
    "if output==0:\n",
    "    error_message = ''\n",
    "    print(f'Image configuration: width {width.value}; height {height.value}; '\n",
    "          f'average {average.value}); Ch1 {Ch1.value};  Ch2: {Ch2.value}\\n')\n",
    "else:\n",
    "    error_message = f'No image configuration could be retrieved, ERROR code is {output}, {errors[output]}'\n",
    "    print(error_message + '\\n')\n",
    "    "
   ]
  },
  {
   "cell_type": "markdown",
   "id": "11fab125",
   "metadata": {},
   "source": [
    "# Get SEM image"
   ]
  },
  {
   "cell_type": "code",
   "execution_count": 65,
   "id": "5af6d101",
   "metadata": {},
   "outputs": [
    {
     "name": "stdout",
     "output_type": "stream",
     "text": [
      "image info: mag=0, pixelsize=0.0, HV=0.0, WD=0.0\n",
      "Could not acquire image, ERROR code is -104, ERROR_NO_ANSWER\n",
      "\n"
     ]
    },
    {
     "name": "stderr",
     "output_type": "stream",
     "text": [
      "C:\\Users\\sergeyg\\AppData\\Local\\Temp\\ipykernel_9832\\3202827873.py:57: UserWarning: Attempting to set identical left == right == -0.5 results in singular transformations; automatically expanding.\n",
      "  plt.imshow(image, cmap='gray')\n",
      "C:\\Users\\sergeyg\\AppData\\Local\\Temp\\ipykernel_9832\\3202827873.py:57: UserWarning: Attempting to set identical bottom == top == -0.5 results in singular transformations; automatically expanding.\n",
      "  plt.imshow(image, cmap='gray')\n"
     ]
    },
    {
     "data": {
      "image/png": "[encoded data removed]",
      "text/plain": [
       "<Figure size 432x288 with 1 Axes>"
      ]
     },
     "metadata": {
      "needs_background": "light"
     },
     "output_type": "display_data"
    }
   ],
   "source": [
    "# int32_t ImageAquireImage(uint32_t CID, int32_t Ch, bool ShowProgress, void* Buffer, int32_t& BufSize, PRTImageInfoEx ImgInfo)\n",
    "# ImageAquireImageEx(FCID, 2, MemStream.Memory, 0, aSize, @ImgInfo)\n",
    "#\n",
    "image_info = TRTImageInfoEx()\n",
    "image_info_ptr = ctypes.pointer(image_info)\n",
    "\n",
    "extra_buffer_for_image = 200000\n",
    "buffer_size = ctypes.c_uint32(width.value * height.value + extra_buffer_for_image) # MemStream.SetSize(W*H+20000); aSize:=MemStream.Size;\n",
    "buffer_size_ptr = ctypes.pointer(buffer_size)\n",
    "\n",
    "show_progress=False\n",
    "channel = 1\n",
    "channel = ctypes.c_uint32(channel)\n",
    "show_progress = ctypes.c_bool(show_progress)\n",
    "\n",
    "# version 1 - void pointer\n",
    "#self.image_buffer_ptr = ctypes.c_void_p() # void* Buffer\n",
    "\n",
    "# version 2 : array\n",
    "# the image has 8 bit depth (0..255) hence ctypes.c_uint8\n",
    "IntArray = ctypes.c_uint8 * buffer_size.value # int8 array the size of width*height+extra for storing the image\n",
    "image_buffer = IntArray() # initialise the array\n",
    "image_buffer_ptr = ctypes.pointer(image_buffer) # pointer to the image buffer array\n",
    "\n",
    "\n",
    "\n",
    "output = \\\n",
    "    espirit.ImageAquireImage(CID,\n",
    "                             channel, show_progress,\n",
    "                             image_buffer_ptr, buffer_size_ptr, image_info_ptr)\n",
    "\n",
    "print(f'image info: mag={image_info.Magnification}, pixelsize={image_info.PixelSizeX}, '\n",
    "      f'HV={image_info.HighVoltage}, WD={image_info.WorkingDistance}')\n",
    "\n",
    "if output==0:\n",
    "    error_message = ''\n",
    "    print(f'image acquired successfully\\n')\n",
    "else:\n",
    "    error_message = f'Could not acquire image, ERROR code is {output}, {errors[output]}'\n",
    "    print( error_message + '\\n')\n",
    "\n",
    "    \n",
    "    \n",
    "    \n",
    "image = np.zeros( buffer_size.value )\n",
    "for ii in range( buffer_size.value ):\n",
    "    image[ii] = image_buffer_ptr.contents[ii] # populate the 1D array from the buffer pointer\n",
    "    \n",
    "    \n",
    "\n",
    "# remove the zeros in the extra buffer for image\n",
    "image = image[ : -extra_buffer_for_image]\n",
    "\n",
    "\n",
    "image = np.reshape(image, (height.value, width.value) ) # reshape the 1D array into the image shape\n",
    "plt.figure(11)\n",
    "plt.imshow(image, cmap='gray')\n",
    "plt.show()\n"
   ]
  },
  {
   "cell_type": "markdown",
   "id": "273554ee",
   "metadata": {},
   "source": [
    "# Test - set beam to point X,Y"
   ]
  },
  {
   "cell_type": "code",
   "execution_count": 66,
   "id": "a8295fef",
   "metadata": {},
   "outputs": [
    {
     "name": "stdout",
     "output_type": "stream",
     "text": [
      "Could not position the beam to (100, 200), ERROR code is -103, ERROR_INVALID_CONNECTION\n",
      "\n"
     ]
    }
   ],
   "source": [
    "# int32_t ImageSetPoint(uint32_t CID, uint32_t X, uint32_t Y)\n",
    "# Pixel X Y value of the current image to set the electron beam to\n",
    "\n",
    "\n",
    "x_pos = 100\n",
    "y_pos = 200\n",
    "\n",
    "\n",
    "X = ctypes.c_uint32(x_pos)\n",
    "Y = ctypes.c_uint32(y_pos)\n",
    "\n",
    "output = \\\n",
    "    espirit.ImageSetPoint(CID, X, Y)\n",
    "\n",
    "if output==0:\n",
    "    error_message = ''\n",
    "    print(f'Beam position set to ({X.value}, {Y.value})\\n')\n",
    "else:\n",
    "    error_message = f'Could not position the beam to ({X.value}, {Y.value}), ERROR code is {output}, {errors[output]}'\n",
    "    print( error_message + '\\n')"
   ]
  },
  {
   "cell_type": "markdown",
   "id": "fcbfbab2",
   "metadata": {},
   "source": [
    "# Test - Line scans with HIGH dwell time"
   ]
  },
  {
   "cell_type": "code",
   "execution_count": 67,
   "id": "7236e1ea",
   "metadata": {},
   "outputs": [
    {
     "name": "stdout",
     "output_type": "stream",
     "text": [
      "Could not expose segment at (100,200) for dwell of 10 ms\n",
      ", ERROR code is -103, ERROR_INVALID_CONNECTION\n",
      "\n"
     ]
    }
   ],
   "source": [
    "# int32_t StartPointListMeasurement(uint32_t CID, int32_t SPU, uint32_t SegmentCount, PSegmentList LineSegments, uint32_t RealTime);\n",
    "# CID: Identification code for an actual server/ client instance\n",
    "# SPU: Spectrometer index (1…n)\n",
    "# SegmentCount: Description of points to measure\n",
    "# RealTime: Acquisition time in ms\n",
    "\n",
    "\n",
    "dwell_time = 10 # ms\n",
    "x = 100\n",
    "y = 200\n",
    "\n",
    "\n",
    "\n",
    "#################################################################################\n",
    "\n",
    "\n",
    "dwell_time = ctypes.c_uint32(dwell_time)\n",
    "\n",
    "SPU = ctypes.c_uint32(1) # spectrometer channel, 1 is used here\n",
    "\n",
    "segment = TSegment()\n",
    "segment.Y      = ctypes.c_uint32(y) # y start\n",
    "segment.XStart = ctypes.c_uint32(x) # x start\n",
    "# TODO - try different line length other than 1\n",
    "segment.XCount = ctypes.c_uint32(1) # single pixel line\n",
    "\n",
    "\n",
    "segment_count = 1\n",
    "TSegmentList = TSegment * segment_count # array/list of segment with a single element\n",
    "list_of_segments = TSegmentList(segment) # populate the array with a segment\n",
    "list_of_segments_ptr = ctypes.pointer(list_of_segments) # pointer to the list of segments/list with a single segment\n",
    "\n",
    "\n",
    "output = \\\n",
    "    espirit.StartPointListMeasurement(CID, SPU, ctypes.c_uint32(segment_count),\n",
    "                                      list_of_segments_ptr, dwell_time)\n",
    "\n",
    "if output==0:\n",
    "    error_message = ''\n",
    "    print(f'Segment starting at ({x},{y}) exposed during dwell of {dwell_time.value} ms\\n')\n",
    "else:\n",
    "    error_message = f'Could not expose segment at ({x},{y}) for dwell of {dwell_time.value} ms\\n, ERROR code is {output}, {errors[output]}'\n",
    "    print( error_message + '\\n')"
   ]
  },
  {
   "cell_type": "code",
   "execution_count": 68,
   "id": "aff3639a",
   "metadata": {},
   "outputs": [
    {
     "name": "stdout",
     "output_type": "stream",
     "text": [
      "100 200 1\n"
     ]
    }
   ],
   "source": [
    "print(list_of_segments[0].XStart, list_of_segments[0].Y, list_of_segments[0].XCount)\n"
   ]
  },
  {
   "cell_type": "markdown",
   "id": "c52a8f96",
   "metadata": {},
   "source": [
    "# Get the line scan data"
   ]
  },
  {
   "cell_type": "code",
   "execution_count": 69,
   "id": "63f7c29e",
   "metadata": {},
   "outputs": [
    {
     "name": "stdout",
     "output_type": "stream",
     "text": [
      "Could not retrieve the line scan data, ERROR code is -106, ERROR_INVALID_RESULT_DATA\n",
      "\n"
     ]
    }
   ],
   "source": [
    "spectrum_index = ctypes.c_uint32(1)\n",
    "\n",
    "# # allocate 64000 memory for the header\n",
    "# TRTSpectrumHeaderRecArray = TRTSpectrumHeaderRec * 64000\n",
    "# SpectrumBuf_ptr = ctypes.POINTER(TRTSpectrumHeaderRecArray)\n",
    "\n",
    "SpectrumBuf = TRTSpectrumHeaderRec()\n",
    "SpectrumBuf_ptr = ctypes.pointer(SpectrumBuf)\n",
    "\n",
    "\n",
    "output = \\\n",
    "    espirit.GetPointListSpectrum(CID, spectrum_index,\n",
    "                                 SpectrumBuf_ptr, ctypes.c_uint32(64000))\n",
    "\n",
    "if output==0:\n",
    "    error_message = ''\n",
    "    print(f'Retrieving the line scan specturum\\n')\n",
    "else:\n",
    "    error_message = f'Could not retrieve the line scan data, ERROR code is {output}, {errors[output]}'\n",
    "    print(error_message + '\\n')"
   ]
  },
  {
   "cell_type": "code",
   "execution_count": null,
   "id": "09df89d7",
   "metadata": {},
   "outputs": [],
   "source": []
  },
  {
   "cell_type": "code",
   "execution_count": null,
   "id": "a573dbc5",
   "metadata": {},
   "outputs": [],
   "source": []
  },
  {
   "cell_type": "code",
   "execution_count": null,
   "id": "ed85a1a0",
   "metadata": {},
   "outputs": [],
   "source": []
  },
  {
   "cell_type": "code",
   "execution_count": null,
   "id": "81bf9e12",
   "metadata": {},
   "outputs": [],
   "source": []
  },
  {
   "cell_type": "code",
   "execution_count": null,
   "id": "8edd2be8",
   "metadata": {},
   "outputs": [],
   "source": []
  },
  {
   "cell_type": "markdown",
   "id": "2a8e037d",
   "metadata": {},
   "source": [
    "# Device API, low level commands"
   ]
  },
  {
   "cell_type": "code",
   "execution_count": 14,
   "id": "4fd80791",
   "metadata": {},
   "outputs": [
    {
     "name": "stdout",
     "output_type": "stream",
     "text": [
      "C:\\Users\\sergeyg\\Github\\Bruker Nano APIs\\Device API\\Sample\\Bruker.API.Devices64.dll <CDLL 'C:\\Users\\sergeyg\\Github\\Bruker Nano APIs\\Device API\\Sample\\Bruker.API.Devices64.dll', handle aa0000 at 0x159e8d30580>\n",
      "Connection to Bruker API established\n"
     ]
    }
   ],
   "source": [
    "#path_to_dll = r'C:\\Users\\sergeyg\\WORK.FILES\\Bruker Nano APIs\\Device API\\Sample\\Bruker.API.Devices64.dll'\n",
    "path_to_dll_Bruker = r'C:\\Users\\sergeyg\\Github\\Bruker Nano APIs\\Device API\\Sample\\Bruker.API.Devices64.dll'\n",
    "\n",
    "\n",
    "errors = {-1 : 'ERROR_UNSPECIFIED',\n",
    "         -2 : 'ERROR_WRONG_PARAMETER',\n",
    "         -3 : 'ERROR_DEVICE_NOT_INITIALIZED',\n",
    "         -4 : 'ERROR_DSP_ERROR',\n",
    "         -5 : 'ERROR_BUFFER_TOO_SMALL',\n",
    "         -6 : 'ERROR_SCAN_ACTIVE',\n",
    "         -7 : 'ERROR_INVALID_MEMORYBLOCK',\n",
    "         -8 : 'ERROR_BUFFER_OVERFLOW',\n",
    "         -9 : 'ERROR_LOG_NOT_AVAILABLE',\n",
    "         -10 : 'ERROR_FILE_NOT_EXISTS'\n",
    "}\n",
    "\n",
    "\n",
    "bruker = ctypes.cdll.LoadLibrary(path_to_dll_Bruker)\n",
    "print(path_to_dll_Bruker, bruker)\n",
    "\n",
    "\n",
    "\n",
    "output = bruker.InitializeIOScan()  # establishes connection between IOScan device and user program.\n",
    "if output == 0:\n",
    "    # no error\n",
    "    print('Connection to Bruker API established')\n",
    "else:\n",
    "    print('Connection failed')"
   ]
  },
  {
   "cell_type": "code",
   "execution_count": 15,
   "id": "4194bc8a",
   "metadata": {},
   "outputs": [
    {
     "name": "stdout",
     "output_type": "stream",
     "text": [
      "-100\n"
     ]
    }
   ],
   "source": [
    "point = bruker.ImageGetPoint()\n",
    "\n",
    "print(point)"
   ]
  },
  {
   "cell_type": "code",
   "execution_count": 16,
   "id": "139963ad",
   "metadata": {},
   "outputs": [
    {
     "name": "stdout",
     "output_type": "stream",
     "text": [
      "0 ; setting external SEM mode to  True\n"
     ]
    }
   ],
   "source": [
    "external = True\n",
    "\n",
    "output = bruker.ImageSetSEMExternMode(external)\n",
    "\n",
    "if output == 0:\n",
    "    # no error\n",
    "    print(output, '; setting external SEM mode to ', str(external))\n",
    "else:\n",
    "    error_message = f'Could not set the external scan mode to {external}, ERROR code is {output}, {errors[output]}'\n",
    "    print(error_message + '\\n')"
   ]
  },
  {
   "cell_type": "code",
   "execution_count": 17,
   "id": "f0281ee3",
   "metadata": {},
   "outputs": [
    {
     "name": "stdout",
     "output_type": "stream",
     "text": [
      "acquisition mode = 0, normal image scan\n"
     ]
    }
   ],
   "source": [
    "output = bruker.ImageGetAcquisitionMode()\n",
    "\n",
    "if output==0:\n",
    "    print(f'acquisition mode = {output}, normal image scan')\n",
    "elif output==1:\n",
    "    print(f'acquisition mode = {output}, SetPoint mode')    \n",
    "if output==2:\n",
    "    print(f'acquisition mode = {output}, external triggered mode (TTL input)')    "
   ]
  },
  {
   "cell_type": "code",
   "execution_count": 18,
   "id": "d691acc4",
   "metadata": {},
   "outputs": [
    {
     "name": "stdout",
     "output_type": "stream",
     "text": [
      "1 2\n"
     ]
    }
   ],
   "source": [
    "def create_point_array(coordinates):\n",
    "    N = len(coordinates)  # number of points\n",
    "    array_of_N_points = TPoint * N  # make a new \"class\" of array with N elements\n",
    "    points = array_of_N_points()  # initialise an array variable\n",
    "    #\n",
    "    for ii, point in enumerate(points):\n",
    "        x = coordinates[ii][0]\n",
    "        y = coordinates[ii][1]\n",
    "        points[ii].X = x\n",
    "        points[ii].Y = y\n",
    "    return points\n",
    "\n",
    "\n",
    "coordinates = [[1, 2], [3, 4], [5, 6], [7, 8]]\n",
    "N = len(coordinates)\n",
    "\n",
    "points = create_point_array(coordinates)\n",
    "\n",
    "output = bruker.ImageSetPointList(N, points)\n",
    "\n",
    "print(points[0].X, points[0].Y)"
   ]
  },
  {
   "cell_type": "code",
   "execution_count": 19,
   "id": "eb9648d8",
   "metadata": {},
   "outputs": [
    {
     "data": {
      "text/plain": [
       "-100"
      ]
     },
     "execution_count": 19,
     "metadata": {},
     "output_type": "execute_result"
    }
   ],
   "source": [
    "# ImageSetConfiguration(256,256,1,1,12,\n",
    "#                       true,false,false,false,\n",
    "#                       0,0,0,0,\n",
    "#                       cmw,pt);\n",
    "#\n",
    "#\n",
    "#\n",
    "# ImageWidth,   Number of pixels in horizontal direction\n",
    "# ImageHeight,  Number of pixels in vertical direction\n",
    "# PixelAverage, Number of pixel average cycles\n",
    "# LineAverage,  Number of line average cycles\n",
    "# SEBitcount: word;   Use input channel 1 for scan\n",
    "\n",
    "# Input1Used,         Use input channel 2 for scan\n",
    "# Input2Used,         Use power synchronization for scan\n",
    "# PowerSyncUsed,      Use counters for scan\n",
    "# CounterUsed: boolean;\n",
    "\n",
    "# CounterIndex       Index of counter mode according to counter mode strings\n",
    "# ActiveCounters: word;    Used counters for scanning, every bit set signals an active counter\n",
    "# TiltAngle: integer;     Current sample tilt\n",
    "# TiltDirection: byte;  Current tilt direction 0 = no tilt; 1 = tilt in X direction; 2 = tilt in Y direction\n",
    "# return var CounterModeWord: word; Return value to set the counter mode\n",
    "# return var PixelTime: word): integer; Return value for the pixel time according to the number of input channels used\n",
    "\n",
    "\n",
    "# var CounterModeWord      //According to counter index the counter mode word for the PCI-Card\n",
    "#                         : word;\n",
    "# var PixelTime : word    //Current pixel time according to number of used input channels\n",
    "#                         //normally 1µs for one channel, 2µs for two channels used\n",
    "\n",
    "\n",
    "\n",
    "# TODO, the function seems to RETURN the pixel_time rather than to set it... \n",
    "\n",
    "\n",
    "image_width  = ctypes.c_int16(1024)\n",
    "image_height = ctypes.c_int16(682)\n",
    "pixel_average = ctypes.c_int16(1)\n",
    "line_average  = ctypes.c_int16(1)\n",
    "bit_depth = ctypes.c_int16(12) \n",
    "###\n",
    "input_1_used    = ctypes.c_bool(True)\n",
    "input_2_used    = ctypes.c_bool(False)\n",
    "power_sync_used = ctypes.c_bool(False)\n",
    "counter_used    = ctypes.c_bool(False)\n",
    "###\n",
    "counter_index = ctypes.c_int16(0)\n",
    "active_counters = ctypes.c_int16(0)\n",
    "tilt_angle = ctypes.c_int32(0)\n",
    "tilt_direction = ctypes.c_int8(0)\n",
    "###\n",
    "counter_mode = ctypes.c_int16(0)\n",
    "pixel_time = ctypes.c_int16(10)\n",
    "\n",
    "bruker.ImageSetConfiguration(image_width, image_height,\n",
    "                             pixel_average, line_average,\n",
    "                             bit_depth, \n",
    "                             input_1_used, input_2_used,\n",
    "                             power_sync_used, counter_used,\n",
    "                             counter_index, active_counters,\n",
    "                             tilt_angle, tilt_direction,\n",
    "                             counter_mode, \n",
    "                             pixel_time)"
   ]
  },
  {
   "cell_type": "code",
   "execution_count": 20,
   "id": "9e50c7ab",
   "metadata": {},
   "outputs": [
    {
     "data": {
      "text/plain": [
       "0"
      ]
     },
     "execution_count": 20,
     "metadata": {},
     "output_type": "execute_result"
    }
   ],
   "source": [
    "bruker.ImageStart()"
   ]
  },
  {
   "cell_type": "code",
   "execution_count": 21,
   "id": "bb64c240",
   "metadata": {},
   "outputs": [
    {
     "data": {
      "text/plain": [
       "-100"
      ]
     },
     "execution_count": 21,
     "metadata": {},
     "output_type": "execute_result"
    }
   ],
   "source": [
    "bruker.ImageGetState()"
   ]
  },
  {
   "cell_type": "code",
   "execution_count": null,
   "id": "4c83a312",
   "metadata": {},
   "outputs": [],
   "source": []
  }
 ],
 "metadata": {
  "kernelspec": {
   "display_name": "kikuchi",
   "language": "python",
   "name": "kikuchi"
  },
  "language_info": {
   "codemirror_mode": {
    "name": "ipython",
    "version": 3
   },
   "file_extension": ".py",
   "mimetype": "text/x-python",
   "name": "python",
   "nbconvert_exporter": "python",
   "pygments_lexer": "ipython3",
   "version": "3.10.4"
  }
 },
 "nbformat": 4,
 "nbformat_minor": 5
}
